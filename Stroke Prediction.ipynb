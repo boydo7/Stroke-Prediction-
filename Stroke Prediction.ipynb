{
 "cells": [
  {
   "cell_type": "code",
   "execution_count": 2,
   "metadata": {},
   "outputs": [],
   "source": [
    "import numpy as np\n",
    "import pandas as pd\n",
    "import matplotlib.pyplot as plt\n",
    "import plotly.figure_factory as ff\n",
    "import seaborn as sns\n",
    "import sklearn\n",
    "\n",
    "import warnings\n",
    "warnings.filterwarnings(\"ignore\")"
   ]
  },
  {
   "cell_type": "code",
   "execution_count": 3,
   "metadata": {},
   "outputs": [],
   "source": [
    "from sklearn.preprocessing import LabelEncoder, StandardScaler\n",
    "from sklearn.model_selection import train_test_split\n",
    "from sklearn.metrics import roc_auc_score\n",
    "from sklearn.metrics import mean_squared_error,accuracy_score, confusion_matrix, classification_report\n",
    "from sklearn.tree import DecisionTreeClassifier\n",
    "from sklearn.linear_model import  SGDClassifier\n",
    "from sklearn.ensemble import RandomForestClassifier\n",
    "from sklearn.naive_bayes import GaussianNB\n",
    "from sklearn.ensemble import GradientBoostingClassifier\n",
    "from xgboost import XGBClassifier\n",
    "from sklearn.linear_model import LogisticRegression"
   ]
  },
  {
   "cell_type": "code",
   "execution_count": 4,
   "metadata": {},
   "outputs": [],
   "source": [
    "train=pd.read_csv('https://raw.githubusercontent.com/boydo7/Stroke-Prediction-/main/healthcare-dataset-stroke-data.csv')\n"
   ]
  },
  {
   "attachments": {},
   "cell_type": "markdown",
   "metadata": {},
   "source": [
    "# Data Exploration"
   ]
  },
  {
   "cell_type": "markdown",
   "metadata": {},
   "source": [
    "|\tFeature Name\t|\tDescription\t|\n",
    "|\t:---\t|\t:---\t|\n",
    "|\tid\t|\t Unique identifier\t|\n",
    "|\tgender\t|\t Gender of the patient (Male, Female, Other)\t|\n",
    "|\tage\t|\t Age of the patient\t|\n",
    "|\thypertension\t|\t 0 if the patient doesn't have hypertension, 1 if the patient has hypertension\t|\n",
    "|\theart_disease\t|\t 0 if the patient doesn't have any heart diseases, 1 if the patient has a heart disease\t|\n",
    "|\tever_married\t|\t Yes if the patient is married, No if the patient is not married\t|\n",
    "|\twork_type\t|\t Profession of the patient (children, Govt_job, Never_worked, Private, Self-employed)\t|\n",
    "|\tResidence_type\t|\t Residence category of the patient (Rural, Urban)\t|\n",
    "|\tavg_glucose_level\t|\t Average glucose level in blood of the patient\t|\n",
    "|\tbmi\t|\t Body Mass Index of the patient\t|\n",
    "|\tsmoking_status\t|\t Smoking status of the patient (formerly smoked, never smoked, smokes, Unknown). Unknown in smoking_status means that the information is unavailable for this patient\t|\n",
    "|\tstroke\t|\t 1 if the patient had a stroke or 0 if not\t|\n"
   ]
  },
  {
   "cell_type": "code",
   "execution_count": 5,
   "metadata": {},
   "outputs": [
    {
     "name": "stdout",
     "output_type": "stream",
     "text": [
      "Shape of dataset : (5110, 12)\n"
     ]
    },
    {
     "data": {
      "text/html": [
       "<div>\n",
       "<style scoped>\n",
       "    .dataframe tbody tr th:only-of-type {\n",
       "        vertical-align: middle;\n",
       "    }\n",
       "\n",
       "    .dataframe tbody tr th {\n",
       "        vertical-align: top;\n",
       "    }\n",
       "\n",
       "    .dataframe thead th {\n",
       "        text-align: right;\n",
       "    }\n",
       "</style>\n",
       "<table border=\"1\" class=\"dataframe\">\n",
       "  <thead>\n",
       "    <tr style=\"text-align: right;\">\n",
       "      <th></th>\n",
       "      <th>id</th>\n",
       "      <th>gender</th>\n",
       "      <th>age</th>\n",
       "      <th>hypertension</th>\n",
       "      <th>heart_disease</th>\n",
       "      <th>ever_married</th>\n",
       "      <th>work_type</th>\n",
       "      <th>Residence_type</th>\n",
       "      <th>avg_glucose_level</th>\n",
       "      <th>bmi</th>\n",
       "      <th>smoking_status</th>\n",
       "      <th>stroke</th>\n",
       "    </tr>\n",
       "  </thead>\n",
       "  <tbody>\n",
       "    <tr>\n",
       "      <th>0</th>\n",
       "      <td>9046</td>\n",
       "      <td>Male</td>\n",
       "      <td>67.0</td>\n",
       "      <td>0</td>\n",
       "      <td>1</td>\n",
       "      <td>Yes</td>\n",
       "      <td>Private</td>\n",
       "      <td>Urban</td>\n",
       "      <td>228.69</td>\n",
       "      <td>36.6</td>\n",
       "      <td>formerly smoked</td>\n",
       "      <td>1</td>\n",
       "    </tr>\n",
       "    <tr>\n",
       "      <th>1</th>\n",
       "      <td>51676</td>\n",
       "      <td>Female</td>\n",
       "      <td>61.0</td>\n",
       "      <td>0</td>\n",
       "      <td>0</td>\n",
       "      <td>Yes</td>\n",
       "      <td>Self-employed</td>\n",
       "      <td>Rural</td>\n",
       "      <td>202.21</td>\n",
       "      <td>NaN</td>\n",
       "      <td>never smoked</td>\n",
       "      <td>1</td>\n",
       "    </tr>\n",
       "    <tr>\n",
       "      <th>2</th>\n",
       "      <td>31112</td>\n",
       "      <td>Male</td>\n",
       "      <td>80.0</td>\n",
       "      <td>0</td>\n",
       "      <td>1</td>\n",
       "      <td>Yes</td>\n",
       "      <td>Private</td>\n",
       "      <td>Rural</td>\n",
       "      <td>105.92</td>\n",
       "      <td>32.5</td>\n",
       "      <td>never smoked</td>\n",
       "      <td>1</td>\n",
       "    </tr>\n",
       "    <tr>\n",
       "      <th>3</th>\n",
       "      <td>60182</td>\n",
       "      <td>Female</td>\n",
       "      <td>49.0</td>\n",
       "      <td>0</td>\n",
       "      <td>0</td>\n",
       "      <td>Yes</td>\n",
       "      <td>Private</td>\n",
       "      <td>Urban</td>\n",
       "      <td>171.23</td>\n",
       "      <td>34.4</td>\n",
       "      <td>smokes</td>\n",
       "      <td>1</td>\n",
       "    </tr>\n",
       "    <tr>\n",
       "      <th>4</th>\n",
       "      <td>1665</td>\n",
       "      <td>Female</td>\n",
       "      <td>79.0</td>\n",
       "      <td>1</td>\n",
       "      <td>0</td>\n",
       "      <td>Yes</td>\n",
       "      <td>Self-employed</td>\n",
       "      <td>Rural</td>\n",
       "      <td>174.12</td>\n",
       "      <td>24.0</td>\n",
       "      <td>never smoked</td>\n",
       "      <td>1</td>\n",
       "    </tr>\n",
       "  </tbody>\n",
       "</table>\n",
       "</div>"
      ],
      "text/plain": [
       "      id  gender   age  hypertension  heart_disease ever_married  \\\n",
       "0   9046    Male  67.0             0              1          Yes   \n",
       "1  51676  Female  61.0             0              0          Yes   \n",
       "2  31112    Male  80.0             0              1          Yes   \n",
       "3  60182  Female  49.0             0              0          Yes   \n",
       "4   1665  Female  79.0             1              0          Yes   \n",
       "\n",
       "       work_type Residence_type  avg_glucose_level   bmi   smoking_status  \\\n",
       "0        Private          Urban             228.69  36.6  formerly smoked   \n",
       "1  Self-employed          Rural             202.21   NaN     never smoked   \n",
       "2        Private          Rural             105.92  32.5     never smoked   \n",
       "3        Private          Urban             171.23  34.4           smokes   \n",
       "4  Self-employed          Rural             174.12  24.0     never smoked   \n",
       "\n",
       "   stroke  \n",
       "0       1  \n",
       "1       1  \n",
       "2       1  \n",
       "3       1  \n",
       "4       1  "
      ]
     },
     "execution_count": 5,
     "metadata": {},
     "output_type": "execute_result"
    }
   ],
   "source": [
    "print('Shape of dataset :',train.shape)\n",
    "train.head() #overview of the dataset"
   ]
  },
  {
   "cell_type": "code",
   "execution_count": 6,
   "metadata": {},
   "outputs": [
    {
     "data": {
      "text/html": [
       "<div>\n",
       "<style scoped>\n",
       "    .dataframe tbody tr th:only-of-type {\n",
       "        vertical-align: middle;\n",
       "    }\n",
       "\n",
       "    .dataframe tbody tr th {\n",
       "        vertical-align: top;\n",
       "    }\n",
       "\n",
       "    .dataframe thead th {\n",
       "        text-align: right;\n",
       "    }\n",
       "</style>\n",
       "<table border=\"1\" class=\"dataframe\">\n",
       "  <thead>\n",
       "    <tr style=\"text-align: right;\">\n",
       "      <th></th>\n",
       "      <th>id</th>\n",
       "      <th>age</th>\n",
       "      <th>hypertension</th>\n",
       "      <th>heart_disease</th>\n",
       "      <th>avg_glucose_level</th>\n",
       "      <th>bmi</th>\n",
       "      <th>stroke</th>\n",
       "    </tr>\n",
       "  </thead>\n",
       "  <tbody>\n",
       "    <tr>\n",
       "      <th>count</th>\n",
       "      <td>5110.000000</td>\n",
       "      <td>5110.000000</td>\n",
       "      <td>5110.000000</td>\n",
       "      <td>5110.000000</td>\n",
       "      <td>5110.000000</td>\n",
       "      <td>4909.000000</td>\n",
       "      <td>5110.000000</td>\n",
       "    </tr>\n",
       "    <tr>\n",
       "      <th>mean</th>\n",
       "      <td>36517.829354</td>\n",
       "      <td>43.226614</td>\n",
       "      <td>0.097456</td>\n",
       "      <td>0.054012</td>\n",
       "      <td>106.147677</td>\n",
       "      <td>28.893237</td>\n",
       "      <td>0.048728</td>\n",
       "    </tr>\n",
       "    <tr>\n",
       "      <th>std</th>\n",
       "      <td>21161.721625</td>\n",
       "      <td>22.612647</td>\n",
       "      <td>0.296607</td>\n",
       "      <td>0.226063</td>\n",
       "      <td>45.283560</td>\n",
       "      <td>7.854067</td>\n",
       "      <td>0.215320</td>\n",
       "    </tr>\n",
       "    <tr>\n",
       "      <th>min</th>\n",
       "      <td>67.000000</td>\n",
       "      <td>0.080000</td>\n",
       "      <td>0.000000</td>\n",
       "      <td>0.000000</td>\n",
       "      <td>55.120000</td>\n",
       "      <td>10.300000</td>\n",
       "      <td>0.000000</td>\n",
       "    </tr>\n",
       "    <tr>\n",
       "      <th>25%</th>\n",
       "      <td>17741.250000</td>\n",
       "      <td>25.000000</td>\n",
       "      <td>0.000000</td>\n",
       "      <td>0.000000</td>\n",
       "      <td>77.245000</td>\n",
       "      <td>23.500000</td>\n",
       "      <td>0.000000</td>\n",
       "    </tr>\n",
       "    <tr>\n",
       "      <th>50%</th>\n",
       "      <td>36932.000000</td>\n",
       "      <td>45.000000</td>\n",
       "      <td>0.000000</td>\n",
       "      <td>0.000000</td>\n",
       "      <td>91.885000</td>\n",
       "      <td>28.100000</td>\n",
       "      <td>0.000000</td>\n",
       "    </tr>\n",
       "    <tr>\n",
       "      <th>75%</th>\n",
       "      <td>54682.000000</td>\n",
       "      <td>61.000000</td>\n",
       "      <td>0.000000</td>\n",
       "      <td>0.000000</td>\n",
       "      <td>114.090000</td>\n",
       "      <td>33.100000</td>\n",
       "      <td>0.000000</td>\n",
       "    </tr>\n",
       "    <tr>\n",
       "      <th>max</th>\n",
       "      <td>72940.000000</td>\n",
       "      <td>82.000000</td>\n",
       "      <td>1.000000</td>\n",
       "      <td>1.000000</td>\n",
       "      <td>271.740000</td>\n",
       "      <td>97.600000</td>\n",
       "      <td>1.000000</td>\n",
       "    </tr>\n",
       "  </tbody>\n",
       "</table>\n",
       "</div>"
      ],
      "text/plain": [
       "                 id          age  hypertension  heart_disease  \\\n",
       "count   5110.000000  5110.000000   5110.000000    5110.000000   \n",
       "mean   36517.829354    43.226614      0.097456       0.054012   \n",
       "std    21161.721625    22.612647      0.296607       0.226063   \n",
       "min       67.000000     0.080000      0.000000       0.000000   \n",
       "25%    17741.250000    25.000000      0.000000       0.000000   \n",
       "50%    36932.000000    45.000000      0.000000       0.000000   \n",
       "75%    54682.000000    61.000000      0.000000       0.000000   \n",
       "max    72940.000000    82.000000      1.000000       1.000000   \n",
       "\n",
       "       avg_glucose_level          bmi       stroke  \n",
       "count        5110.000000  4909.000000  5110.000000  \n",
       "mean          106.147677    28.893237     0.048728  \n",
       "std            45.283560     7.854067     0.215320  \n",
       "min            55.120000    10.300000     0.000000  \n",
       "25%            77.245000    23.500000     0.000000  \n",
       "50%            91.885000    28.100000     0.000000  \n",
       "75%           114.090000    33.100000     0.000000  \n",
       "max           271.740000    97.600000     1.000000  "
      ]
     },
     "execution_count": 6,
     "metadata": {},
     "output_type": "execute_result"
    }
   ],
   "source": [
    "train.describe()"
   ]
  },
  {
   "cell_type": "code",
   "execution_count": 7,
   "metadata": {},
   "outputs": [
    {
     "name": "stdout",
     "output_type": "stream",
     "text": [
      "<class 'pandas.core.frame.DataFrame'>\n",
      "RangeIndex: 5110 entries, 0 to 5109\n",
      "Data columns (total 12 columns):\n",
      " #   Column             Non-Null Count  Dtype  \n",
      "---  ------             --------------  -----  \n",
      " 0   id                 5110 non-null   int64  \n",
      " 1   gender             5110 non-null   object \n",
      " 2   age                5110 non-null   float64\n",
      " 3   hypertension       5110 non-null   int64  \n",
      " 4   heart_disease      5110 non-null   int64  \n",
      " 5   ever_married       5110 non-null   object \n",
      " 6   work_type          5110 non-null   object \n",
      " 7   Residence_type     5110 non-null   object \n",
      " 8   avg_glucose_level  5110 non-null   float64\n",
      " 9   bmi                4909 non-null   float64\n",
      " 10  smoking_status     5110 non-null   object \n",
      " 11  stroke             5110 non-null   int64  \n",
      "dtypes: float64(3), int64(4), object(5)\n",
      "memory usage: 479.2+ KB\n"
     ]
    }
   ],
   "source": [
    "train.info()"
   ]
  },
  {
   "cell_type": "code",
   "execution_count": 8,
   "metadata": {},
   "outputs": [
    {
     "data": {
      "text/html": [
       "<div>\n",
       "<style scoped>\n",
       "    .dataframe tbody tr th:only-of-type {\n",
       "        vertical-align: middle;\n",
       "    }\n",
       "\n",
       "    .dataframe tbody tr th {\n",
       "        vertical-align: top;\n",
       "    }\n",
       "\n",
       "    .dataframe thead th {\n",
       "        text-align: right;\n",
       "    }\n",
       "</style>\n",
       "<table border=\"1\" class=\"dataframe\">\n",
       "  <thead>\n",
       "    <tr style=\"text-align: right;\">\n",
       "      <th></th>\n",
       "      <th>id</th>\n",
       "      <th>gender</th>\n",
       "      <th>age</th>\n",
       "      <th>hypertension</th>\n",
       "      <th>heart_disease</th>\n",
       "      <th>ever_married</th>\n",
       "      <th>work_type</th>\n",
       "      <th>Residence_type</th>\n",
       "      <th>avg_glucose_level</th>\n",
       "      <th>bmi</th>\n",
       "      <th>smoking_status</th>\n",
       "      <th>stroke</th>\n",
       "    </tr>\n",
       "  </thead>\n",
       "  <tbody>\n",
       "  </tbody>\n",
       "</table>\n",
       "</div>"
      ],
      "text/plain": [
       "Empty DataFrame\n",
       "Columns: [id, gender, age, hypertension, heart_disease, ever_married, work_type, Residence_type, avg_glucose_level, bmi, smoking_status, stroke]\n",
       "Index: []"
      ]
     },
     "execution_count": 8,
     "metadata": {},
     "output_type": "execute_result"
    }
   ],
   "source": [
    "train=train.drop(labels=3116,axis=0)\n",
    "train[train['gender']=='Other']"
   ]
  },
  {
   "cell_type": "code",
   "execution_count": 9,
   "metadata": {},
   "outputs": [],
   "source": [
    "train.hypertension=train.hypertension.map({1:'yes',0:'no'})\n",
    "train.heart_disease=train.heart_disease.map({1:'yes',0:'no'})\n",
    "train.stroke=train.stroke.map({1:'yes',0:'no'})"
   ]
  },
  {
   "cell_type": "code",
   "execution_count": 10,
   "metadata": {},
   "outputs": [],
   "source": [
    "train=train.drop(['id'],axis=1)"
   ]
  },
  {
   "cell_type": "code",
   "execution_count": 11,
   "metadata": {},
   "outputs": [],
   "source": [
    "train.rename(columns={\"gender\": \"Gender\",\"age\": \"Age\",\"hypertension\":\"Hypertension\",\n",
    "        \"heart_disease\":\"Heart Disease\",\"ever_married\":\"Marital Status\",\"work_type\":\"Occupation Type\",\n",
    "        \"Residence_type\":\"Residence Type\",\"avg_glucose_level\": \"Average Glucose Level\",\"bmi\":\"BMI\",\n",
    "        \"smoking_status\":\"Smoking Status\",\"stroke\":\"Stroke\"}, inplace = True)"
   ]
  },
  {
   "cell_type": "code",
   "execution_count": 12,
   "metadata": {},
   "outputs": [],
   "source": [
    "#df.to_csv(r'C:\\Users\\Boydo\\Downloads\\dataset_stroke.csv')"
   ]
  },
  {
   "cell_type": "markdown",
   "metadata": {},
   "source": [
    "# Visualization"
   ]
  },
  {
   "cell_type": "code",
   "execution_count": 13,
   "metadata": {},
   "outputs": [
    {
     "data": {
      "text/plain": [
       "Text(0.5, 1.0, '\\nStroke Patients Age Distribution\\n')"
      ]
     },
     "execution_count": 13,
     "metadata": {},
     "output_type": "execute_result"
    },
    {
     "data": {
      "image/png": "[encoded data removed]",
      "text/plain": [
       "<Figure size 432x288 with 1 Axes>"
      ]
     },
     "metadata": {
      "needs_background": "light"
     },
     "output_type": "display_data"
    }
   ],
   "source": [
    "sns.histplot(data=train[train[\"Stroke\"] == \"yes\"],x=\"Age\",hue=\"Gender\",multiple=\"stack\",kde=True,bins=30,alpha=1,linewidth=2)\n",
    "plt.title('\\nStroke Patients Age Distribution\\n',fontsize=15)"
   ]
  },
  {
   "cell_type": "code",
   "execution_count": 14,
   "metadata": {},
   "outputs": [
    {
     "data": {
      "text/plain": [
       "<matplotlib.legend.Legend at 0x2cae14f1af0>"
      ]
     },
     "execution_count": 14,
     "metadata": {},
     "output_type": "execute_result"
    },
    {
     "data": {
      "image/png": "[encoded data removed]",
      "text/plain": [
       "<Figure size 720x288 with 2 Axes>"
      ]
     },
     "metadata": {
      "needs_background": "light"
     },
     "output_type": "display_data"
    }
   ],
   "source": [
    "fig, ax = plt.subplots(nrows=1, ncols=2, figsize=(10,4))\n",
    "\n",
    "sns.countplot(y=train[train[\"Stroke\"]==\"yes\"][\"Gender\"],order=train[train[\"Stroke\"]==\"yes\"][\"Gender\"].value_counts(ascending=True).index, \n",
    "saturation=1, edgecolor = \"#1c1c1c\", linewidth = 3,ax=ax[0])\n",
    "\n",
    "plt.title(\"\\nStroke Patient's Age On Gender\\n\",fontsize=15)\n",
    "\n",
    "labels = \"Male\",\"Female\"\n",
    "\n",
    "plt.pie([train[train[\"Stroke\"] == \"yes\"][\"Gender\"].value_counts(ascending=True).values[0],\n",
    "        train[train[\"Stroke\"] == \"yes\"][\"Gender\"].value_counts(ascending=True).values[1]], explode = (0,0),\n",
    "        textprops=dict(size= 10, color= \"white\"),\n",
    "        autopct=\"%.2f%%\",startangle = 120,wedgeprops=dict( edgecolor = \"black\", linewidth = 3))\n",
    "\n",
    "plt.legend( labels, title=\"Gender\",loc=\"center left\",bbox_to_anchor=(1, 0, 0.5, 1), edgecolor = \"black\")\n",
    "\n"
   ]
  },
  {
   "cell_type": "code",
   "execution_count": 15,
   "metadata": {},
   "outputs": [
    {
     "data": {
      "text/plain": [
       "<matplotlib.legend.Legend at 0x2cae148a4c0>"
      ]
     },
     "execution_count": 15,
     "metadata": {},
     "output_type": "execute_result"
    },
    {
     "data": {
      "image/png": "[encoded data removed]",
      "text/plain": [
       "<Figure size 720x288 with 2 Axes>"
      ]
     },
     "metadata": {
      "needs_background": "light"
     },
     "output_type": "display_data"
    }
   ],
   "source": [
    "fig, ax = plt.subplots(nrows=1, ncols=2, figsize=(10,4))\n",
    "\n",
    "\n",
    "sns.countplot(y=train[train[\"Stroke\"]==\"yes\"][\"Smoking Status\"],order=train[train[\"Stroke\"]==\"yes\"][\"Smoking Status\"].value_counts(ascending=False).index, \n",
    "            saturation=1, edgecolor = \"#1c1c1c\", linewidth = 3,ax=ax[0])\n",
    "plt.title(\"\\nStroke Patient's Smoking Status\",fontsize=15)\n",
    "\n",
    "labels = \"Never Smoked\",\"Formerly Smoked\",\"Smokes\",\"Unknown\"\n",
    "\n",
    "plt.pie([train[train[\"Stroke\"] == \"yes\"][\"Smoking Status\"].value_counts(ascending=False).values[0],\n",
    "        train[train[\"Stroke\"] == \"yes\"][\"Smoking Status\"].value_counts(ascending=False).values[1],\n",
    "        train[train[\"Stroke\"] == \"yes\"][\"Smoking Status\"].value_counts(ascending=False).values[2],\n",
    "        train[train[\"Stroke\"] == \"yes\"][\"Smoking Status\"].value_counts(ascending=False).values[3]],\n",
    "        textprops=dict(size= 10, color= \"white\"),autopct=\"%.2f%%\",startangle = 180,wedgeprops=dict( edgecolor = \"black\", linewidth = 3))\n",
    "\n",
    "plt.legend(labels, title=\"Smoking Status\",loc=\"center left\",bbox_to_anchor=(1, 0, 0.5, 1), edgecolor = \"black\")"
   ]
  },
  {
   "cell_type": "code",
   "execution_count": 16,
   "metadata": {},
   "outputs": [
    {
     "data": {
      "text/plain": [
       "<matplotlib.legend.Legend at 0x2cae0e75670>"
      ]
     },
     "execution_count": 16,
     "metadata": {},
     "output_type": "execute_result"
    },
    {
     "data": {
      "image/png": "[encoded data removed]",
      "text/plain": [
       "<Figure size 720x288 with 2 Axes>"
      ]
     },
     "metadata": {
      "needs_background": "light"
     },
     "output_type": "display_data"
    }
   ],
   "source": [
    "fig, ax = plt.subplots(nrows=1, ncols=2, figsize=(10,4))\n",
    "\n",
    "sns.countplot(y=train[train[\"Stroke\"]==\"yes\"][\"Marital Status\"],order=train[train[\"Stroke\"]==\"yes\"][\"Marital Status\"].value_counts(ascending=False).index, \n",
    "            saturation=1, edgecolor = \"#1c1c1c\", linewidth = 3,ax=ax[0])\n",
    "\n",
    "plt.title(\"\\nStroke Patient's Marital Status\",fontsize=15)\n",
    "\n",
    "labels = \"Married\",\"Unmarried\"\n",
    "\n",
    "plt.pie([train[train[\"Stroke\"] == \"yes\"][\"Marital Status\"].value_counts(ascending=False).values[0],\n",
    "        train[train[\"Stroke\"] == \"yes\"][\"Marital Status\"].value_counts(ascending=False).values[1]],\n",
    "        textprops=dict(size= 10, color= \"white\"),\n",
    "        autopct=\"%.2f%%\", wedgeprops=dict( edgecolor = \"black\", linewidth = 3),startangle = 90)\n",
    "\n",
    "plt.legend( labels, title=\"Marital Status\",loc=\"center left\",bbox_to_anchor=(1, 0, 0.5, 1), edgecolor = \"black\")\n"
   ]
  },
  {
   "cell_type": "code",
   "execution_count": 17,
   "metadata": {},
   "outputs": [
    {
     "data": {
      "text/plain": [
       "Text(0.5, 1.0, '\\nStroke Patients BMI Distribution\\n')"
      ]
     },
     "execution_count": 17,
     "metadata": {},
     "output_type": "execute_result"
    },
    {
     "data": {
      "image/png": "[encoded data removed]",
      "text/plain": [
       "<Figure size 432x288 with 1 Axes>"
      ]
     },
     "metadata": {
      "needs_background": "light"
     },
     "output_type": "display_data"
    }
   ],
   "source": [
    "sns.histplot(data=train[train[\"Stroke\"] == \"yes\"],x=\"BMI\",hue=\"Gender\",multiple=\"stack\",\n",
    "kde=True,bins=30,alpha=1,fill=True,linewidth=2)\n",
    "plt.title('\\nStroke Patients BMI Distribution\\n',fontsize=15)"
   ]
  },
  {
   "cell_type": "code",
   "execution_count": 18,
   "metadata": {},
   "outputs": [
    {
     "data": {
      "text/plain": [
       "Text(0.5, 1.0, \"\\nStroke Patient's Heart Disease\")"
      ]
     },
     "execution_count": 18,
     "metadata": {},
     "output_type": "execute_result"
    },
    {
     "data": {
      "image/png": "[encoded data removed]",
      "text/plain": [
       "<Figure size 720x288 with 2 Axes>"
      ]
     },
     "metadata": {
      "needs_background": "light"
     },
     "output_type": "display_data"
    }
   ],
   "source": [
    "fig, ax = plt.subplots(nrows=1, ncols=2, figsize=(10,4))\n",
    "\n",
    "sns.countplot(y=train[train[\"Stroke\"]==\"yes\"][\"Heart Disease\"],order=train[train[\"Stroke\"]==\"yes\"][\"Heart Disease\"].value_counts(ascending=False).index, \n",
    "saturation=1, edgecolor = \"#1c1c1c\", linewidth = 3,ax=ax[0])\n",
    "\n",
    "labels = \"No\",\"Yes\"\n",
    "\n",
    "plt.pie([train[train[\"Stroke\"] == \"yes\"][\"Heart Disease\"].value_counts(ascending=False).values[0],\n",
    "        train[train[\"Stroke\"] == \"yes\"][\"Heart Disease\"].value_counts(ascending=False).values[1]],\n",
    "        textprops=dict(size= 10, color= \"white\"),\n",
    "        autopct=\"%.2f%%\", wedgeprops=dict( edgecolor = \"black\", linewidth = 3),startangle = 75)\n",
    "\n",
    "plt.legend(labels, title=\"Heart Disease\",loc=\"center left\",bbox_to_anchor=(1, 0, 0.5, 1), edgecolor = \"black\")\n",
    "plt.title(\"\\nStroke Patient's Heart Disease\",fontsize=15)"
   ]
  },
  {
   "cell_type": "code",
   "execution_count": 19,
   "metadata": {},
   "outputs": [
    {
     "data": {
      "text/plain": [
       "Text(0.5, 1.0, \"\\nStroke Patient's Hypertension Status\")"
      ]
     },
     "execution_count": 19,
     "metadata": {},
     "output_type": "execute_result"
    },
    {
     "data": {
      "image/png": "[encoded data removed]",
      "text/plain": [
       "<Figure size 720x288 with 2 Axes>"
      ]
     },
     "metadata": {
      "needs_background": "light"
     },
     "output_type": "display_data"
    }
   ],
   "source": [
    "fig, ax = plt.subplots(nrows=1, ncols=2, figsize=(10,4))\n",
    "\n",
    "sns.countplot(y=train[train[\"Stroke\"]==\"yes\"][\"Hypertension\"],order=train[train[\"Stroke\"]==\"yes\"][\"Hypertension\"].value_counts(ascending=False).index, \n",
    "saturation=1, edgecolor = \"#1c1c1c\", linewidth = 3,ax=ax[0])\n",
    "\n",
    "plt.pie([train[train[\"Stroke\"] == \"yes\"][\"Hypertension\"].value_counts(ascending=False).values[0],\n",
    "        train[train[\"Stroke\"] == \"yes\"][\"Hypertension\"].value_counts(ascending=False).values[1]],\n",
    "        textprops=dict(size= 10, color= \"white\"),autopct=\"%.2f%%\", \n",
    "        wedgeprops=dict( edgecolor = \"black\", linewidth = 3),startangle = 90)\n",
    "plt.title(\"\\nStroke Patient's Hypertension Status\",fontsize=15)\n",
    "        "
   ]
  },
  {
   "cell_type": "code",
   "execution_count": 20,
   "metadata": {},
   "outputs": [
    {
     "data": {
      "text/plain": [
       "Text(0.5, 1.0, '\\nStroke Patients Average Glucose Level Distribution\\n')"
      ]
     },
     "execution_count": 20,
     "metadata": {},
     "output_type": "execute_result"
    },
    {
     "data": {
      "image/png": "[encoded data removed]",
      "text/plain": [
       "<Figure size 432x288 with 1 Axes>"
      ]
     },
     "metadata": {
      "needs_background": "light"
     },
     "output_type": "display_data"
    }
   ],
   "source": [
    "sns.histplot(data=train[train[\"Stroke\"]==\"yes\"],x=\"Average Glucose Level\",hue=\"Gender\",\n",
    "            multiple=\"stack\",kde=True,bins=30,alpha=1,fill=True,linewidth=2)\n",
    "plt.title('\\nStroke Patients Average Glucose Level Distribution\\n',fontsize=15)"
   ]
  },
  {
   "cell_type": "code",
   "execution_count": 21,
   "metadata": {},
   "outputs": [
    {
     "data": {
      "text/plain": [
       "Text(0.5, 1.0, \"\\nStroke Patient's Occupation Type\")"
      ]
     },
     "execution_count": 21,
     "metadata": {},
     "output_type": "execute_result"
    },
    {
     "data": {
      "image/png": "[encoded data removed]",
      "text/plain": [
       "<Figure size 720x288 with 2 Axes>"
      ]
     },
     "metadata": {
      "needs_background": "light"
     },
     "output_type": "display_data"
    }
   ],
   "source": [
    "fig, ax = plt.subplots(nrows=1, ncols=2, figsize=(10,4))\n",
    "\n",
    "sns.countplot(y=train[train[\"Stroke\"]==\"yes\"][\"Occupation Type\"],order=train[train[\"Stroke\"]==\"yes\"][\"Occupation Type\"].value_counts(ascending=False).index, \n",
    "saturation=1, edgecolor = \"#1c1c1c\", linewidth = 3,ax=ax[0])\n",
    "\n",
    "labels = \"Private Job\",\"Self Employed\",\"Government Job\"\n",
    "\n",
    "plt.pie([train[train[\"Stroke\"] == \"yes\"][\"Occupation Type\"].value_counts(ascending=False).values[0],\n",
    "        train[train[\"Stroke\"] == \"yes\"][\"Occupation Type\"].value_counts(ascending=False).values[1],\n",
    "        train[train[\"Stroke\"] == \"yes\"][\"Occupation Type\"].value_counts(ascending=False).values[2]],\n",
    "        textprops=dict(size= 10, color= \"white\"),autopct=\"%.2f%%\", \n",
    "        wedgeprops=dict( edgecolor = \"black\", linewidth = 3),startangle = -20)\n",
    "\n",
    "plt.legend( labels, title=\"Occupation Type\",loc=\"center left\",bbox_to_anchor=(1, 0, 0.5, 1), edgecolor = \"black\")\n",
    "plt.title(\"\\nStroke Patient's Occupation Type\",fontsize=15)"
   ]
  },
  {
   "cell_type": "code",
   "execution_count": 22,
   "metadata": {},
   "outputs": [
    {
     "data": {
      "text/plain": [
       "<matplotlib.legend.Legend at 0x2cae2aabb20>"
      ]
     },
     "execution_count": 22,
     "metadata": {},
     "output_type": "execute_result"
    },
    {
     "data": {
      "image/png": "[encoded data removed]",
      "text/plain": [
       "<Figure size 720x288 with 2 Axes>"
      ]
     },
     "metadata": {
      "needs_background": "light"
     },
     "output_type": "display_data"
    }
   ],
   "source": [
    "fig, ax = plt.subplots(nrows=1, ncols=2, figsize=(10,4))\n",
    "\n",
    "sns.countplot(y=train[train[\"Stroke\"]==\"yes\"][\"Residence Type\"],order=train[train[\"Stroke\"]==\"yes\"][\"Residence Type\"].value_counts(ascending=False).index, \n",
    "saturation=1, edgecolor = \"#1c1c1c\", linewidth = 3,ax=ax[0])\n",
    "\n",
    "labels = \"Urban\",\"Rural\"\n",
    "\n",
    "plt.pie([train[train[\"Stroke\"] == \"yes\"][\"Residence Type\"].value_counts(ascending=False).values[0],\n",
    "                                    train[train[\"Stroke\"] == \"yes\"][\"Residence Type\"].value_counts(ascending=False).values[1]],\n",
    "                                   \n",
    "                                    textprops=dict(size= 10, color= \"white\"),\n",
    "                                    autopct=\"%.2f%%\", \n",
    "                                    \n",
    "                                    wedgeprops=dict( edgecolor = \"black\", \n",
    "                                    linewidth = 3),\n",
    "                                    startangle = 85)\n",
    "\n",
    "plt.title(\"\\nStroke Patient's Residence\",fontsize=15)\n",
    "\n",
    "plt.legend(labels, title=\"Residence Type\",loc=\"center left\",bbox_to_anchor=(1, 0, 0.5, 1), edgecolor = \"black\")"
   ]
  },
  {
   "attachments": {},
   "cell_type": "markdown",
   "metadata": {},
   "source": [
    "# Data Preparation"
   ]
  },
  {
   "cell_type": "code",
   "execution_count": 23,
   "metadata": {},
   "outputs": [],
   "source": [
    "df=train"
   ]
  },
  {
   "cell_type": "code",
   "execution_count": 24,
   "metadata": {},
   "outputs": [
    {
     "name": "stdout",
     "output_type": "stream",
     "text": [
      "Number of duplicates data :  0\n"
     ]
    }
   ],
   "source": [
    "print('Number of duplicates data : ',df.duplicated().sum()) # checking duplicated data"
   ]
  },
  {
   "cell_type": "code",
   "execution_count": 25,
   "metadata": {},
   "outputs": [
    {
     "data": {
      "text/html": [
       "<div>\n",
       "<style scoped>\n",
       "    .dataframe tbody tr th:only-of-type {\n",
       "        vertical-align: middle;\n",
       "    }\n",
       "\n",
       "    .dataframe tbody tr th {\n",
       "        vertical-align: top;\n",
       "    }\n",
       "\n",
       "    .dataframe thead th {\n",
       "        text-align: right;\n",
       "    }\n",
       "</style>\n",
       "<table border=\"1\" class=\"dataframe\">\n",
       "  <thead>\n",
       "    <tr style=\"text-align: right;\">\n",
       "      <th></th>\n",
       "      <th>variable</th>\n",
       "      <th>missing values</th>\n",
       "      <th>filling factor %</th>\n",
       "    </tr>\n",
       "  </thead>\n",
       "  <tbody>\n",
       "    <tr>\n",
       "      <th>0</th>\n",
       "      <td>BMI</td>\n",
       "      <td>201</td>\n",
       "      <td>96.065766</td>\n",
       "    </tr>\n",
       "    <tr>\n",
       "      <th>1</th>\n",
       "      <td>Gender</td>\n",
       "      <td>0</td>\n",
       "      <td>100.000000</td>\n",
       "    </tr>\n",
       "    <tr>\n",
       "      <th>2</th>\n",
       "      <td>Age</td>\n",
       "      <td>0</td>\n",
       "      <td>100.000000</td>\n",
       "    </tr>\n",
       "    <tr>\n",
       "      <th>3</th>\n",
       "      <td>Hypertension</td>\n",
       "      <td>0</td>\n",
       "      <td>100.000000</td>\n",
       "    </tr>\n",
       "    <tr>\n",
       "      <th>4</th>\n",
       "      <td>Heart Disease</td>\n",
       "      <td>0</td>\n",
       "      <td>100.000000</td>\n",
       "    </tr>\n",
       "    <tr>\n",
       "      <th>5</th>\n",
       "      <td>Marital Status</td>\n",
       "      <td>0</td>\n",
       "      <td>100.000000</td>\n",
       "    </tr>\n",
       "    <tr>\n",
       "      <th>6</th>\n",
       "      <td>Occupation Type</td>\n",
       "      <td>0</td>\n",
       "      <td>100.000000</td>\n",
       "    </tr>\n",
       "    <tr>\n",
       "      <th>7</th>\n",
       "      <td>Residence Type</td>\n",
       "      <td>0</td>\n",
       "      <td>100.000000</td>\n",
       "    </tr>\n",
       "    <tr>\n",
       "      <th>8</th>\n",
       "      <td>Average Glucose Level</td>\n",
       "      <td>0</td>\n",
       "      <td>100.000000</td>\n",
       "    </tr>\n",
       "    <tr>\n",
       "      <th>9</th>\n",
       "      <td>Smoking Status</td>\n",
       "      <td>0</td>\n",
       "      <td>100.000000</td>\n",
       "    </tr>\n",
       "    <tr>\n",
       "      <th>10</th>\n",
       "      <td>Stroke</td>\n",
       "      <td>0</td>\n",
       "      <td>100.000000</td>\n",
       "    </tr>\n",
       "  </tbody>\n",
       "</table>\n",
       "</div>"
      ],
      "text/plain": [
       "                 variable  missing values  filling factor %\n",
       "0                     BMI             201         96.065766\n",
       "1                  Gender               0        100.000000\n",
       "2                     Age               0        100.000000\n",
       "3            Hypertension               0        100.000000\n",
       "4           Heart Disease               0        100.000000\n",
       "5          Marital Status               0        100.000000\n",
       "6         Occupation Type               0        100.000000\n",
       "7          Residence Type               0        100.000000\n",
       "8   Average Glucose Level               0        100.000000\n",
       "9          Smoking Status               0        100.000000\n",
       "10                 Stroke               0        100.000000"
      ]
     },
     "execution_count": 25,
     "metadata": {},
     "output_type": "execute_result"
    }
   ],
   "source": [
    "missing_data = df.isnull().sum(axis=0).reset_index()  #checking missing value\n",
    "missing_data.columns=['variable','missing values']\n",
    "missing_data['filling factor %']=(df.shape[0]-missing_data['missing values'])/df.shape[0]*100\n",
    "missing_data.sort_values('filling factor %').reset_index(drop = True)"
   ]
  },
  {
   "cell_type": "code",
   "execution_count": 26,
   "metadata": {},
   "outputs": [
    {
     "name": "stdout",
     "output_type": "stream",
     "text": [
      "Number of null values :  Gender                   0\n",
      "Age                      0\n",
      "Hypertension             0\n",
      "Heart Disease            0\n",
      "Marital Status           0\n",
      "Occupation Type          0\n",
      "Residence Type           0\n",
      "Average Glucose Level    0\n",
      "BMI                      0\n",
      "Smoking Status           0\n",
      "Stroke                   0\n",
      "dtype: int64\n"
     ]
    }
   ],
   "source": [
    "df=df.dropna()\n",
    "\n",
    "print('Number of null values : ', df.isnull().sum())"
   ]
  },
  {
   "cell_type": "markdown",
   "metadata": {},
   "source": [
    "# Correlation"
   ]
  },
  {
   "cell_type": "code",
   "execution_count": 27,
   "metadata": {},
   "outputs": [
    {
     "data": {
      "text/plain": [
       "Index(['Gender', 'Age', 'Hypertension', 'Heart Disease', 'Marital Status',\n",
       "       'Occupation Type', 'Residence Type', 'Average Glucose Level', 'BMI',\n",
       "       'Smoking Status', 'Stroke'],\n",
       "      dtype='object')"
      ]
     },
     "execution_count": 27,
     "metadata": {},
     "output_type": "execute_result"
    }
   ],
   "source": [
    "df.columns"
   ]
  },
  {
   "cell_type": "code",
   "execution_count": 28,
   "metadata": {},
   "outputs": [
    {
     "data": {
      "text/html": [
       "<div>\n",
       "<style scoped>\n",
       "    .dataframe tbody tr th:only-of-type {\n",
       "        vertical-align: middle;\n",
       "    }\n",
       "\n",
       "    .dataframe tbody tr th {\n",
       "        vertical-align: top;\n",
       "    }\n",
       "\n",
       "    .dataframe thead th {\n",
       "        text-align: right;\n",
       "    }\n",
       "</style>\n",
       "<table border=\"1\" class=\"dataframe\">\n",
       "  <thead>\n",
       "    <tr style=\"text-align: right;\">\n",
       "      <th></th>\n",
       "      <th>Gender</th>\n",
       "      <th>Age</th>\n",
       "      <th>Hypertension</th>\n",
       "      <th>Heart Disease</th>\n",
       "      <th>Marital Status</th>\n",
       "      <th>Occupation Type</th>\n",
       "      <th>Residence Type</th>\n",
       "      <th>Average Glucose Level</th>\n",
       "      <th>BMI</th>\n",
       "      <th>Smoking Status</th>\n",
       "      <th>Stroke</th>\n",
       "    </tr>\n",
       "  </thead>\n",
       "  <tbody>\n",
       "    <tr>\n",
       "      <th>0</th>\n",
       "      <td>1</td>\n",
       "      <td>67.0</td>\n",
       "      <td>0</td>\n",
       "      <td>1</td>\n",
       "      <td>1</td>\n",
       "      <td>2</td>\n",
       "      <td>1</td>\n",
       "      <td>228.69</td>\n",
       "      <td>36.6</td>\n",
       "      <td>1</td>\n",
       "      <td>1</td>\n",
       "    </tr>\n",
       "    <tr>\n",
       "      <th>2</th>\n",
       "      <td>1</td>\n",
       "      <td>80.0</td>\n",
       "      <td>0</td>\n",
       "      <td>1</td>\n",
       "      <td>1</td>\n",
       "      <td>2</td>\n",
       "      <td>0</td>\n",
       "      <td>105.92</td>\n",
       "      <td>32.5</td>\n",
       "      <td>2</td>\n",
       "      <td>1</td>\n",
       "    </tr>\n",
       "    <tr>\n",
       "      <th>3</th>\n",
       "      <td>0</td>\n",
       "      <td>49.0</td>\n",
       "      <td>0</td>\n",
       "      <td>0</td>\n",
       "      <td>1</td>\n",
       "      <td>2</td>\n",
       "      <td>1</td>\n",
       "      <td>171.23</td>\n",
       "      <td>34.4</td>\n",
       "      <td>3</td>\n",
       "      <td>1</td>\n",
       "    </tr>\n",
       "    <tr>\n",
       "      <th>4</th>\n",
       "      <td>0</td>\n",
       "      <td>79.0</td>\n",
       "      <td>1</td>\n",
       "      <td>0</td>\n",
       "      <td>1</td>\n",
       "      <td>3</td>\n",
       "      <td>0</td>\n",
       "      <td>174.12</td>\n",
       "      <td>24.0</td>\n",
       "      <td>2</td>\n",
       "      <td>1</td>\n",
       "    </tr>\n",
       "    <tr>\n",
       "      <th>5</th>\n",
       "      <td>1</td>\n",
       "      <td>81.0</td>\n",
       "      <td>0</td>\n",
       "      <td>0</td>\n",
       "      <td>1</td>\n",
       "      <td>2</td>\n",
       "      <td>1</td>\n",
       "      <td>186.21</td>\n",
       "      <td>29.0</td>\n",
       "      <td>1</td>\n",
       "      <td>1</td>\n",
       "    </tr>\n",
       "  </tbody>\n",
       "</table>\n",
       "</div>"
      ],
      "text/plain": [
       "   Gender   Age  Hypertension  Heart Disease  Marital Status  Occupation Type  \\\n",
       "0       1  67.0             0              1               1                2   \n",
       "2       1  80.0             0              1               1                2   \n",
       "3       0  49.0             0              0               1                2   \n",
       "4       0  79.0             1              0               1                3   \n",
       "5       1  81.0             0              0               1                2   \n",
       "\n",
       "   Residence Type  Average Glucose Level   BMI  Smoking Status  Stroke  \n",
       "0               1                 228.69  36.6               1       1  \n",
       "2               0                 105.92  32.5               2       1  \n",
       "3               1                 171.23  34.4               3       1  \n",
       "4               0                 174.12  24.0               2       1  \n",
       "5               1                 186.21  29.0               1       1  "
      ]
     },
     "execution_count": 28,
     "metadata": {},
     "output_type": "execute_result"
    }
   ],
   "source": [
    "from sklearn import preprocessing\n",
    "from sklearn.preprocessing import LabelEncoder\n",
    "\n",
    "\n",
    "\n",
    "catcol = [col for col in df.columns if df[col].dtype == \"object\"]\n",
    "le = LabelEncoder()\n",
    "for col in catcol:\n",
    "        df[col] = le.fit_transform(df[col])\n",
    "\n",
    "df.head()"
   ]
  },
  {
   "cell_type": "code",
   "execution_count": 29,
   "metadata": {},
   "outputs": [
    {
     "data": {
      "text/html": [
       "<div>\n",
       "<style scoped>\n",
       "    .dataframe tbody tr th:only-of-type {\n",
       "        vertical-align: middle;\n",
       "    }\n",
       "\n",
       "    .dataframe tbody tr th {\n",
       "        vertical-align: top;\n",
       "    }\n",
       "\n",
       "    .dataframe thead th {\n",
       "        text-align: right;\n",
       "    }\n",
       "</style>\n",
       "<table border=\"1\" class=\"dataframe\">\n",
       "  <thead>\n",
       "    <tr style=\"text-align: right;\">\n",
       "      <th></th>\n",
       "      <th>index</th>\n",
       "      <th>Stroke</th>\n",
       "    </tr>\n",
       "  </thead>\n",
       "  <tbody>\n",
       "    <tr>\n",
       "      <th>10</th>\n",
       "      <td>Stroke</td>\n",
       "      <td>1.000000</td>\n",
       "    </tr>\n",
       "    <tr>\n",
       "      <th>1</th>\n",
       "      <td>Age</td>\n",
       "      <td>0.232313</td>\n",
       "    </tr>\n",
       "    <tr>\n",
       "      <th>2</th>\n",
       "      <td>Hypertension</td>\n",
       "      <td>0.142503</td>\n",
       "    </tr>\n",
       "    <tr>\n",
       "      <th>7</th>\n",
       "      <td>Average Glucose Level</td>\n",
       "      <td>0.138984</td>\n",
       "    </tr>\n",
       "    <tr>\n",
       "      <th>3</th>\n",
       "      <td>Heart Disease</td>\n",
       "      <td>0.137929</td>\n",
       "    </tr>\n",
       "    <tr>\n",
       "      <th>4</th>\n",
       "      <td>Marital Status</td>\n",
       "      <td>0.105051</td>\n",
       "    </tr>\n",
       "    <tr>\n",
       "      <th>9</th>\n",
       "      <td>Smoking Status</td>\n",
       "      <td>0.051544</td>\n",
       "    </tr>\n",
       "    <tr>\n",
       "      <th>8</th>\n",
       "      <td>BMI</td>\n",
       "      <td>0.042341</td>\n",
       "    </tr>\n",
       "    <tr>\n",
       "      <th>0</th>\n",
       "      <td>Gender</td>\n",
       "      <td>0.006904</td>\n",
       "    </tr>\n",
       "    <tr>\n",
       "      <th>6</th>\n",
       "      <td>Residence Type</td>\n",
       "      <td>0.005988</td>\n",
       "    </tr>\n",
       "    <tr>\n",
       "      <th>5</th>\n",
       "      <td>Occupation Type</td>\n",
       "      <td>-0.033763</td>\n",
       "    </tr>\n",
       "  </tbody>\n",
       "</table>\n",
       "</div>"
      ],
      "text/plain": [
       "                    index    Stroke\n",
       "10                 Stroke  1.000000\n",
       "1                     Age  0.232313\n",
       "2            Hypertension  0.142503\n",
       "7   Average Glucose Level  0.138984\n",
       "3           Heart Disease  0.137929\n",
       "4          Marital Status  0.105051\n",
       "9          Smoking Status  0.051544\n",
       "8                     BMI  0.042341\n",
       "0                  Gender  0.006904\n",
       "6          Residence Type  0.005988\n",
       "5         Occupation Type -0.033763"
      ]
     },
     "execution_count": 29,
     "metadata": {},
     "output_type": "execute_result"
    }
   ],
   "source": [
    "df2=df.corr().Stroke.reset_index().sort_values(by='Stroke',ascending=False)\n",
    "df2"
   ]
  },
  {
   "cell_type": "code",
   "execution_count": 30,
   "metadata": {},
   "outputs": [
    {
     "data": {
      "image/png": "[encoded data removed]",
      "text/plain": [
       "<Figure size 432x288 with 1 Axes>"
      ]
     },
     "metadata": {
      "needs_background": "light"
     },
     "output_type": "display_data"
    }
   ],
   "source": [
    "chart = sns.barplot(data=df2,x=\"index\",y=\"Stroke\",saturation=1, edgecolor = \"#000000\", linewidth = 3)\n",
    "\n",
    "for item in chart.get_xticklabels():\n",
    "  item.set_rotation(90)"
   ]
  },
  {
   "cell_type": "code",
   "execution_count": 31,
   "metadata": {},
   "outputs": [
    {
     "data": {
      "text/plain": [
       "<AxesSubplot:>"
      ]
     },
     "execution_count": 31,
     "metadata": {},
     "output_type": "execute_result"
    },
    {
     "data": {
      "image/png": "[encoded data removed]",
      "text/plain": [
       "<Figure size 432x288 with 2 Axes>"
      ]
     },
     "metadata": {
      "needs_background": "light"
     },
     "output_type": "display_data"
    }
   ],
   "source": [
    "sns.heatmap(df.corr(),cmap=\"Blues\", edgecolor = \"#1c1c1c\", linewidth = 3)"
   ]
  },
  {
   "cell_type": "markdown",
   "metadata": {},
   "source": [
    "# Machine Learning"
   ]
  },
  {
   "cell_type": "code",
   "execution_count": 32,
   "metadata": {},
   "outputs": [],
   "source": [
    "X=df.drop(['Stroke'],1)\n",
    "y=df[['Stroke']]"
   ]
  },
  {
   "cell_type": "code",
   "execution_count": 33,
   "metadata": {},
   "outputs": [],
   "source": [
    "sc = StandardScaler()\n",
    "X = sc.fit_transform(X)\n",
    "\n",
    "train_X,test_X,train_y,test_y = train_test_split(X,y,test_size=0.2,random_state=0)"
   ]
  },
  {
   "cell_type": "code",
   "execution_count": 34,
   "metadata": {},
   "outputs": [
    {
     "data": {
      "text/plain": [
       "LogisticRegression()"
      ]
     },
     "execution_count": 34,
     "metadata": {},
     "output_type": "execute_result"
    }
   ],
   "source": [
    "lr = LogisticRegression()\n",
    "lr.fit(train_X, train_y)\n"
   ]
  },
  {
   "cell_type": "code",
   "execution_count": 35,
   "metadata": {},
   "outputs": [
    {
     "name": "stdout",
     "output_type": "stream",
     "text": [
      "Confusion Matrix : \n",
      "\n",
      "[[939   0]\n",
      " [ 43   0]]\n",
      "\n",
      "Classification Report : \n",
      "\n",
      "              precision    recall  f1-score   support\n",
      "\n",
      "           0       0.96      1.00      0.98       939\n",
      "           1       0.00      0.00      0.00        43\n",
      "\n",
      "    accuracy                           0.96       982\n",
      "   macro avg       0.48      0.50      0.49       982\n",
      "weighted avg       0.91      0.96      0.93       982\n",
      "\n",
      "\n",
      "The Accuracy of Logistic Regresion is 95.62 %\n",
      "ROC AUC score wiht Logistic Regresion: 0.5\n"
     ]
    }
   ],
   "source": [
    "lr_pred = lr.predict(test_X)\n",
    "lr_conf = confusion_matrix(test_y, lr_pred)\n",
    "lr_report = classification_report(test_y, lr_pred)\n",
    "lr_acc = round(accuracy_score(test_y, lr_pred)*100, ndigits = 2)\n",
    "lr_rocauc=roc_auc_score(test_y, lr_pred)\n",
    "print(f\"Confusion Matrix : \\n\\n{lr_conf}\")\n",
    "print(f\"\\nClassification Report : \\n\\n{lr_report}\")\n",
    "print(f\"\\nThe Accuracy of Logistic Regresion is {lr_acc} %\")\n",
    "print(f'ROC AUC score wiht Logistic Regresion: {lr_rocauc}')\n",
    "\n"
   ]
  },
  {
   "cell_type": "code",
   "execution_count": 36,
   "metadata": {},
   "outputs": [
    {
     "data": {
      "text/plain": [
       "DecisionTreeClassifier()"
      ]
     },
     "execution_count": 36,
     "metadata": {},
     "output_type": "execute_result"
    }
   ],
   "source": [
    "dtr=DecisionTreeClassifier()\n",
    "\n",
    "dtr.fit(train_X,train_y)\n"
   ]
  },
  {
   "cell_type": "code",
   "execution_count": 37,
   "metadata": {},
   "outputs": [
    {
     "name": "stdout",
     "output_type": "stream",
     "text": [
      "Confusion Matrix : \n",
      "\n",
      "[[902  37]\n",
      " [ 40   3]]\n",
      "\n",
      "Classification Report : \n",
      "\n",
      "              precision    recall  f1-score   support\n",
      "\n",
      "           0       0.96      0.96      0.96       939\n",
      "           1       0.07      0.07      0.07        43\n",
      "\n",
      "    accuracy                           0.92       982\n",
      "   macro avg       0.52      0.52      0.52       982\n",
      "weighted avg       0.92      0.92      0.92       982\n",
      "\n",
      "\n",
      "The Accuracy of Decision Tree is 92.159 %\n",
      "ROC AUC Score with Decision Tree: 0.5151819104935978\n"
     ]
    }
   ],
   "source": [
    "dtr_pred=dtr.predict(test_X)\n",
    "dtr_conf=confusion_matrix(test_y,dtr_pred)\n",
    "dtr_report=classification_report(test_y,dtr_pred)\n",
    "dtr_acc=round(accuracy_score(test_y,dtr_pred)*100,ndigits=3)\n",
    "dtr_rocauc=roc_auc_score(test_y, dtr_pred)\n",
    "print(f\"Confusion Matrix : \\n\\n{dtr_conf}\")\n",
    "print(f\"\\nClassification Report : \\n\\n{dtr_report}\")\n",
    "print(f\"\\nThe Accuracy of Decision Tree is {dtr_acc} %\")\n",
    "print(f'ROC AUC Score with Decision Tree: {dtr_rocauc}')"
   ]
  },
  {
   "cell_type": "code",
   "execution_count": 38,
   "metadata": {},
   "outputs": [
    {
     "data": {
      "text/plain": [
       "RandomForestClassifier()"
      ]
     },
     "execution_count": 38,
     "metadata": {},
     "output_type": "execute_result"
    }
   ],
   "source": [
    "rfc = RandomForestClassifier() \n",
    "rfc.fit(train_X,train_y)\n"
   ]
  },
  {
   "cell_type": "code",
   "execution_count": 39,
   "metadata": {},
   "outputs": [
    {
     "name": "stdout",
     "output_type": "stream",
     "text": [
      "Confusion Matrix : \n",
      "\n",
      "[[937   2]\n",
      " [ 43   0]]\n",
      "\n",
      "Classification Report : \n",
      "\n",
      "              precision    recall  f1-score   support\n",
      "\n",
      "           0       0.96      1.00      0.98       939\n",
      "           1       0.00      0.00      0.00        43\n",
      "\n",
      "    accuracy                           0.95       982\n",
      "   macro avg       0.48      0.50      0.49       982\n",
      "weighted avg       0.91      0.95      0.93       982\n",
      "\n",
      "\n",
      "The Accuracy of Random Forest Classifier is 95.42 %\n",
      "ROC AUC score wiht Random Forest Classifier: 0.4989350372736954\n"
     ]
    }
   ],
   "source": [
    "rfc_pred = rfc.predict(test_X)\n",
    "rfc_conf = confusion_matrix(test_y, rfc_pred)\n",
    "rfc_report = classification_report(test_y, rfc_pred)\n",
    "rfc_acc = round(accuracy_score(test_y, rfc_pred)*100, ndigits = 2)\n",
    "rfc_rocauc=roc_auc_score(test_y, rfc_pred)\n",
    "print(f\"Confusion Matrix : \\n\\n{rfc_conf}\")\n",
    "print(f\"\\nClassification Report : \\n\\n{rfc_report}\")\n",
    "print(f\"\\nThe Accuracy of Random Forest Classifier is {rfc_acc} %\")\n",
    "print(f'ROC AUC score wiht Random Forest Classifier: {rfc_rocauc}')"
   ]
  },
  {
   "cell_type": "code",
   "execution_count": 40,
   "metadata": {},
   "outputs": [
    {
     "data": {
      "text/plain": [
       "GradientBoostingClassifier()"
      ]
     },
     "execution_count": 40,
     "metadata": {},
     "output_type": "execute_result"
    }
   ],
   "source": [
    "gradien=GradientBoostingClassifier()\n",
    "\n",
    "gradien.fit(train_X,train_y)"
   ]
  },
  {
   "cell_type": "code",
   "execution_count": 41,
   "metadata": {},
   "outputs": [
    {
     "name": "stdout",
     "output_type": "stream",
     "text": [
      "Confusion Matrix : \n",
      "\n",
      "[[938   1]\n",
      " [ 43   0]]\n",
      "\n",
      "Classification Report : \n",
      "\n",
      "              precision    recall  f1-score   support\n",
      "\n",
      "           0       0.96      1.00      0.98       939\n",
      "           1       0.00      0.00      0.00        43\n",
      "\n",
      "    accuracy                           0.96       982\n",
      "   macro avg       0.48      0.50      0.49       982\n",
      "weighted avg       0.91      0.96      0.93       982\n",
      "\n",
      "\n",
      "The Accuracy of Gradien Boost is 95.519 %\n",
      "ROC AUC score wiht Gradien Boost: 0.4994675186368477\n"
     ]
    }
   ],
   "source": [
    "gradien_pred=gradien.predict(test_X)\n",
    "gradien_conf=confusion_matrix(test_y,gradien_pred)\n",
    "gradien_report=classification_report(test_y,gradien_pred)\n",
    "gradien_acc=round(accuracy_score(test_y,gradien_pred)*100,ndigits=3)\n",
    "gradien_rocauc=roc_auc_score(test_y, gradien_pred)\n",
    "print(f\"Confusion Matrix : \\n\\n{gradien_conf}\")\n",
    "print(f\"\\nClassification Report : \\n\\n{gradien_report}\")\n",
    "print(f\"\\nThe Accuracy of Gradien Boost is {gradien_acc} %\")\n",
    "print(f'ROC AUC score wiht Gradien Boost: {gradien_rocauc}')"
   ]
  },
  {
   "cell_type": "code",
   "execution_count": 42,
   "metadata": {},
   "outputs": [
    {
     "data": {
      "text/plain": [
       "SGDClassifier()"
      ]
     },
     "execution_count": 42,
     "metadata": {},
     "output_type": "execute_result"
    }
   ],
   "source": [
    "sgd=SGDClassifier()\n",
    "\n",
    "sgd.fit(train_X,train_y)"
   ]
  },
  {
   "cell_type": "code",
   "execution_count": 43,
   "metadata": {},
   "outputs": [
    {
     "name": "stdout",
     "output_type": "stream",
     "text": [
      "Confusion Matrix : \n",
      "\n",
      "[[939   0]\n",
      " [ 43   0]]\n",
      "\n",
      "Classification Report : \n",
      "\n",
      "              precision    recall  f1-score   support\n",
      "\n",
      "           0       0.96      1.00      0.98       939\n",
      "           1       0.00      0.00      0.00        43\n",
      "\n",
      "    accuracy                           0.96       982\n",
      "   macro avg       0.48      0.50      0.49       982\n",
      "weighted avg       0.91      0.96      0.93       982\n",
      "\n",
      "\n",
      "The Accuracy of SGD is 95.621 %\n",
      "ROC AUC Score with SGD: 0.5\n"
     ]
    }
   ],
   "source": [
    "sgd_pred=sgd.predict(test_X)\n",
    "sgd_conf=confusion_matrix(test_y,sgd_pred)\n",
    "sgd_report=classification_report(test_y,sgd_pred)\n",
    "sgd_acc=round(accuracy_score(test_y,sgd_pred)*100,ndigits=3)\n",
    "sgd_rocauc=roc_auc_score(test_y, sgd_pred)\n",
    "print(f\"Confusion Matrix : \\n\\n{sgd_conf}\")\n",
    "print(f\"\\nClassification Report : \\n\\n{sgd_report}\")\n",
    "print(f\"\\nThe Accuracy of SGD is {sgd_acc} %\")\n",
    "print(f'ROC AUC Score with SGD: {sgd_rocauc}')"
   ]
  },
  {
   "cell_type": "code",
   "execution_count": 44,
   "metadata": {},
   "outputs": [
    {
     "data": {
      "text/plain": [
       "GaussianNB()"
      ]
     },
     "execution_count": 44,
     "metadata": {},
     "output_type": "execute_result"
    }
   ],
   "source": [
    "gnb=GaussianNB()\n",
    "\n",
    "gnb.fit(train_X,train_y)\n"
   ]
  },
  {
   "cell_type": "code",
   "execution_count": 45,
   "metadata": {},
   "outputs": [
    {
     "name": "stdout",
     "output_type": "stream",
     "text": [
      "Confusion Matrix : \n",
      "\n",
      "[[827 112]\n",
      " [ 22  21]]\n",
      "\n",
      "Classification Report : \n",
      "\n",
      "              precision    recall  f1-score   support\n",
      "\n",
      "           0       0.97      0.88      0.93       939\n",
      "           1       0.16      0.49      0.24        43\n",
      "\n",
      "    accuracy                           0.86       982\n",
      "   macro avg       0.57      0.68      0.58       982\n",
      "weighted avg       0.94      0.86      0.89       982\n",
      "\n",
      "\n",
      "The Accuracy of Gaussian is 86.354 %\n",
      "ROC AUC Score with Gaussian Naive Bayes: 0.6845481338385714\n"
     ]
    }
   ],
   "source": [
    "gnb_pred=gnb.predict(test_X)\n",
    "gnb_conf=confusion_matrix(test_y,gnb_pred)\n",
    "gnb_report=classification_report(test_y,gnb_pred)\n",
    "gnb_acc=round(accuracy_score(test_y,gnb_pred)*100,ndigits=3)\n",
    "gnb_rocauc=roc_auc_score(test_y, gnb_pred)\n",
    "print(f\"Confusion Matrix : \\n\\n{gnb_conf}\")\n",
    "print(f\"\\nClassification Report : \\n\\n{gnb_report}\")\n",
    "print(f\"\\nThe Accuracy of Gaussian is {gnb_acc} %\")\n",
    "print(f'ROC AUC Score with Gaussian Naive Bayes: {gnb_rocauc}',)"
   ]
  },
  {
   "cell_type": "code",
   "execution_count": 46,
   "metadata": {},
   "outputs": [
    {
     "data": {
      "text/plain": [
       "XGBClassifier(base_score=0.5, booster='gbtree', callbacks=None,\n",
       "              colsample_bylevel=1, colsample_bynode=1, colsample_bytree=1,\n",
       "              early_stopping_rounds=None, enable_categorical=False,\n",
       "              eval_metric='auc', feature_types=None, gamma=0, gpu_id=-1,\n",
       "              grow_policy='depthwise', importance_type=None,\n",
       "              interaction_constraints='', learning_rate=0.300000012,\n",
       "              max_bin=256, max_cat_threshold=64, max_cat_to_onehot=4,\n",
       "              max_delta_step=0, max_depth=6, max_leaves=0, min_child_weight=1,\n",
       "              missing=nan, monotone_constraints='()', n_estimators=100,\n",
       "              n_jobs=-1, num_parallel_tree=1, predictor='auto', random_state=0, ...)"
      ]
     },
     "execution_count": 46,
     "metadata": {},
     "output_type": "execute_result"
    }
   ],
   "source": [
    "xgboost=XGBClassifier(objective='binary:logistic',eval_metric = 'auc', n_jobs=-1)\n",
    "xgboost.fit(train_X,train_y)"
   ]
  },
  {
   "cell_type": "code",
   "execution_count": 47,
   "metadata": {},
   "outputs": [
    {
     "name": "stdout",
     "output_type": "stream",
     "text": [
      "Confusion Matrix : \n",
      "\n",
      "[[933   6]\n",
      " [ 40   3]]\n",
      "\n",
      "Classification Report : \n",
      "\n",
      "              precision    recall  f1-score   support\n",
      "\n",
      "           0       0.96      0.99      0.98       939\n",
      "           1       0.33      0.07      0.12        43\n",
      "\n",
      "    accuracy                           0.95       982\n",
      "   macro avg       0.65      0.53      0.55       982\n",
      "weighted avg       0.93      0.95      0.94       982\n",
      "\n",
      "\n",
      "The Accuracy of XGB is 95.316 %\n",
      "ROC AUC Score with XGBOOST: 0.5316888327513188\n"
     ]
    }
   ],
   "source": [
    "xgboost_pred=xgboost.predict(test_X)\n",
    "xgboost_conf=confusion_matrix(test_y,xgboost_pred)\n",
    "xgboost_report=classification_report(test_y,xgboost_pred)\n",
    "xgboost_acc=round(accuracy_score(test_y,xgboost_pred)*100,ndigits=3)\n",
    "xgboost_rocauc=roc_auc_score(test_y, xgboost_pred)\n",
    "print(f\"Confusion Matrix : \\n\\n{xgboost_conf}\")\n",
    "print(f\"\\nClassification Report : \\n\\n{xgboost_report}\")\n",
    "print(f\"\\nThe Accuracy of XGB is {xgboost_acc} %\")\n",
    "print(f'ROC AUC Score with XGBOOST: {xgboost_rocauc}')\n"
   ]
  },
  {
   "cell_type": "code",
   "execution_count": 49,
   "metadata": {},
   "outputs": [
    {
     "data": {
      "text/plain": [
       "KNeighborsClassifier()"
      ]
     },
     "execution_count": 49,
     "metadata": {},
     "output_type": "execute_result"
    }
   ],
   "source": [
    "from sklearn.neighbors import KNeighborsClassifier\n",
    "\n",
    "knn=KNeighborsClassifier()\n",
    "knn.fit(train_X,train_y)"
   ]
  },
  {
   "cell_type": "code",
   "execution_count": 50,
   "metadata": {},
   "outputs": [
    {
     "name": "stdout",
     "output_type": "stream",
     "text": [
      "Confusion Matrix : \n",
      "\n",
      "[[935   4]\n",
      " [ 43   0]]\n",
      "\n",
      "Classification Report : \n",
      "\n",
      "              precision    recall  f1-score   support\n",
      "\n",
      "           0       0.96      1.00      0.98       939\n",
      "           1       0.00      0.00      0.00        43\n",
      "\n",
      "    accuracy                           0.95       982\n",
      "   macro avg       0.48      0.50      0.49       982\n",
      "weighted avg       0.91      0.95      0.93       982\n",
      "\n",
      "\n",
      "The Accuracy of KNN is 95.214 %\n",
      "ROC AUC Score with KNN: 0.49787007454739085\n"
     ]
    }
   ],
   "source": [
    "knn_pred=knn.predict(test_X)\n",
    "knn_conf=confusion_matrix(test_y,knn_pred)\n",
    "knn_report=classification_report(test_y,knn_pred)\n",
    "knn_acc=round(accuracy_score(test_y,knn_pred)*100,ndigits=3)\n",
    "knn_rocauc=roc_auc_score(test_y, knn_pred)\n",
    "print(f\"Confusion Matrix : \\n\\n{knn_conf}\")\n",
    "print(f\"\\nClassification Report : \\n\\n{knn_report}\")\n",
    "print(f\"\\nThe Accuracy of KNN is {knn_acc} %\")\n",
    "print(f'ROC AUC Score with KNN: {knn_rocauc}')\n"
   ]
  },
  {
   "cell_type": "code",
   "execution_count": 51,
   "metadata": {},
   "outputs": [
    {
     "data": {
      "text/plain": [
       "SVC()"
      ]
     },
     "execution_count": 51,
     "metadata": {},
     "output_type": "execute_result"
    }
   ],
   "source": [
    "from sklearn import svm\n",
    "\n",
    "SVM=svm.SVC()\n",
    "\n",
    "SVM.fit(train_X,train_y)"
   ]
  },
  {
   "cell_type": "code",
   "execution_count": 52,
   "metadata": {},
   "outputs": [
    {
     "name": "stdout",
     "output_type": "stream",
     "text": [
      "Confusion Matrix : \n",
      "\n",
      "[[939   0]\n",
      " [ 43   0]]\n",
      "\n",
      "Classification Report : \n",
      "\n",
      "              precision    recall  f1-score   support\n",
      "\n",
      "           0       0.96      1.00      0.98       939\n",
      "           1       0.00      0.00      0.00        43\n",
      "\n",
      "    accuracy                           0.96       982\n",
      "   macro avg       0.48      0.50      0.49       982\n",
      "weighted avg       0.91      0.96      0.93       982\n",
      "\n",
      "\n",
      "The Accuracy of SVM is 95.621 %\n",
      "ROC AUC Score with SVM: 0.5\n"
     ]
    }
   ],
   "source": [
    "SVM_pred=SVM.predict(test_X)\n",
    "SVM_conf=confusion_matrix(test_y,SVM_pred)\n",
    "SVM_report=classification_report(test_y,SVM_pred)\n",
    "SVM_acc=round(accuracy_score(test_y,SVM_pred)*100,ndigits=3)\n",
    "SVM_rocauc=roc_auc_score(test_y, SVM_pred)\n",
    "print(f\"Confusion Matrix : \\n\\n{SVM_conf}\")\n",
    "print(f\"\\nClassification Report : \\n\\n{SVM_report}\")\n",
    "print(f\"\\nThe Accuracy of SVM is {SVM_acc} %\")\n",
    "print(f'ROC AUC Score with SVM: {SVM_rocauc}')\n"
   ]
  },
  {
   "cell_type": "code",
   "execution_count": 53,
   "metadata": {},
   "outputs": [
    {
     "data": {
      "text/html": [
       "<style type=\"text/css\">\n",
       "#T_25482_row0_col1, #T_25482_row1_col1, #T_25482_row7_col2 {\n",
       "  background-color: #800026;\n",
       "  color: #f1f1f1;\n",
       "}\n",
       "#T_25482_row0_col2, #T_25482_row1_col2, #T_25482_row2_col2 {\n",
       "  background-color: #fffec9;\n",
       "  color: #000000;\n",
       "}\n",
       "#T_25482_row2_col1 {\n",
       "  background-color: #840026;\n",
       "  color: #f1f1f1;\n",
       "}\n",
       "#T_25482_row3_col1 {\n",
       "  background-color: #8a0026;\n",
       "  color: #f1f1f1;\n",
       "}\n",
       "#T_25482_row3_col2 {\n",
       "  background-color: #fffecb;\n",
       "  color: #000000;\n",
       "}\n",
       "#T_25482_row4_col1 {\n",
       "  background-color: #8f0026;\n",
       "  color: #f1f1f1;\n",
       "}\n",
       "#T_25482_row4_col2 {\n",
       "  background-color: #ffe48d;\n",
       "  color: #000000;\n",
       "}\n",
       "#T_25482_row5_col1 {\n",
       "  background-color: #950026;\n",
       "  color: #f1f1f1;\n",
       "}\n",
       "#T_25482_row5_col2, #T_25482_row7_col1 {\n",
       "  background-color: #ffffcc;\n",
       "  color: #000000;\n",
       "}\n",
       "#T_25482_row6_col1 {\n",
       "  background-color: #fc4d2a;\n",
       "  color: #f1f1f1;\n",
       "}\n",
       "#T_25482_row6_col2 {\n",
       "  background-color: #fff2ac;\n",
       "  color: #000000;\n",
       "}\n",
       "</style>\n",
       "<table id=\"T_25482\">\n",
       "  <thead>\n",
       "    <tr>\n",
       "      <th class=\"blank level0\" >&nbsp;</th>\n",
       "      <th id=\"T_25482_level0_col0\" class=\"col_heading level0 col0\" >Models</th>\n",
       "      <th id=\"T_25482_level0_col1\" class=\"col_heading level0 col1\" >Testing Accuracy Score</th>\n",
       "      <th id=\"T_25482_level0_col2\" class=\"col_heading level0 col2\" >ROC AUC Score</th>\n",
       "    </tr>\n",
       "  </thead>\n",
       "  <tbody>\n",
       "    <tr>\n",
       "      <th id=\"T_25482_level0_row0\" class=\"row_heading level0 row0\" >7</th>\n",
       "      <td id=\"T_25482_row0_col0\" class=\"data row0 col0\" >Support Vector Machine</td>\n",
       "      <td id=\"T_25482_row0_col1\" class=\"data row0 col1\" >95.621000</td>\n",
       "      <td id=\"T_25482_row0_col2\" class=\"data row0 col2\" >0.500000</td>\n",
       "    </tr>\n",
       "    <tr>\n",
       "      <th id=\"T_25482_level0_row1\" class=\"row_heading level0 row1\" >5</th>\n",
       "      <td id=\"T_25482_row1_col0\" class=\"data row1 col0\" >Logistic Regression</td>\n",
       "      <td id=\"T_25482_row1_col1\" class=\"data row1 col1\" >95.620000</td>\n",
       "      <td id=\"T_25482_row1_col2\" class=\"data row1 col2\" >0.500000</td>\n",
       "    </tr>\n",
       "    <tr>\n",
       "      <th id=\"T_25482_level0_row2\" class=\"row_heading level0 row2\" >3</th>\n",
       "      <td id=\"T_25482_row2_col0\" class=\"data row2 col0\" >Gradien Boost Classifier</td>\n",
       "      <td id=\"T_25482_row2_col1\" class=\"data row2 col1\" >95.519000</td>\n",
       "      <td id=\"T_25482_row2_col2\" class=\"data row2 col2\" >0.499468</td>\n",
       "    </tr>\n",
       "    <tr>\n",
       "      <th id=\"T_25482_level0_row3\" class=\"row_heading level0 row3\" >4</th>\n",
       "      <td id=\"T_25482_row3_col0\" class=\"data row3 col0\" >Random Forest Classifier</td>\n",
       "      <td id=\"T_25482_row3_col1\" class=\"data row3 col1\" >95.420000</td>\n",
       "      <td id=\"T_25482_row3_col2\" class=\"data row3 col2\" >0.498935</td>\n",
       "    </tr>\n",
       "    <tr>\n",
       "      <th id=\"T_25482_level0_row4\" class=\"row_heading level0 row4\" >0</th>\n",
       "      <td id=\"T_25482_row4_col0\" class=\"data row4 col0\" >XGBoost Classifier</td>\n",
       "      <td id=\"T_25482_row4_col1\" class=\"data row4 col1\" >95.316000</td>\n",
       "      <td id=\"T_25482_row4_col2\" class=\"data row4 col2\" >0.531689</td>\n",
       "    </tr>\n",
       "    <tr>\n",
       "      <th id=\"T_25482_level0_row5\" class=\"row_heading level0 row5\" >6</th>\n",
       "      <td id=\"T_25482_row5_col0\" class=\"data row5 col0\" >KNeighborsClassifier</td>\n",
       "      <td id=\"T_25482_row5_col1\" class=\"data row5 col1\" >95.214000</td>\n",
       "      <td id=\"T_25482_row5_col2\" class=\"data row5 col2\" >0.497870</td>\n",
       "    </tr>\n",
       "    <tr>\n",
       "      <th id=\"T_25482_level0_row6\" class=\"row_heading level0 row6\" >1</th>\n",
       "      <td id=\"T_25482_row6_col0\" class=\"data row6 col0\" >Decision Tree Classifier</td>\n",
       "      <td id=\"T_25482_row6_col1\" class=\"data row6 col1\" >92.159000</td>\n",
       "      <td id=\"T_25482_row6_col2\" class=\"data row6 col2\" >0.515182</td>\n",
       "    </tr>\n",
       "    <tr>\n",
       "      <th id=\"T_25482_level0_row7\" class=\"row_heading level0 row7\" >2</th>\n",
       "      <td id=\"T_25482_row7_col0\" class=\"data row7 col0\" >Gaussian naive bayes classifier</td>\n",
       "      <td id=\"T_25482_row7_col1\" class=\"data row7 col1\" >86.354000</td>\n",
       "      <td id=\"T_25482_row7_col2\" class=\"data row7 col2\" >0.684548</td>\n",
       "    </tr>\n",
       "  </tbody>\n",
       "</table>\n"
      ],
      "text/plain": [
       "<pandas.io.formats.style.Styler at 0x2cae2c9e3d0>"
      ]
     },
     "execution_count": 53,
     "metadata": {},
     "output_type": "execute_result"
    }
   ],
   "source": [
    "results = pd.DataFrame([[\"XGBoost Classifier\", xgboost_acc, xgboost_rocauc],\n",
    "                        [\"Decision Tree Classifier\", dtr_acc, dtr_rocauc], \n",
    "                        [\"Gaussian naive bayes classifier\", gnb_acc, gnb_rocauc],\n",
    "                        [\"Gradien Boost Classifier\", gradien_acc, gradien_rocauc],\n",
    "                        [\"Random Forest Classifier\", rfc_acc, rfc_rocauc],\n",
    "                        [\"Logistic Regression\",lr_acc,lr_rocauc],\n",
    "                        [\"KNeighborsClassifier\",knn_acc,knn_rocauc],\n",
    "                        [\"Support Vector Machine\",SVM_acc,SVM_rocauc]],\n",
    "                        columns = [\"Models\", \"Testing Accuracy Score\", \"ROC AUC Score\"])\n",
    "\n",
    "results.sort_values(by=['Testing Accuracy Score'], ascending=False).style.background_gradient(cmap='YlOrRd')"
   ]
  }
 ],
 "metadata": {
  "kernelspec": {
   "display_name": "Python 3.9.12 ('base')",
   "language": "python",
   "name": "python3"
  },
  "language_info": {
   "codemirror_mode": {
    "name": "ipython",
    "version": 3
   },
   "file_extension": ".py",
   "mimetype": "text/x-python",
   "name": "python",
   "nbconvert_exporter": "python",
   "pygments_lexer": "ipython3",
   "version": "3.9.12 (main, Apr  4 2022, 05:22:27) [MSC v.1916 64 bit (AMD64)]"
  },
  "orig_nbformat": 4,
  "vscode": {
   "interpreter": {
    "hash": "ad2bdc8ecc057115af97d19610ffacc2b4e99fae6737bb82f5d7fb13d2f2c186"
   }
  }
 },
 "nbformat": 4,
 "nbformat_minor": 2
}
