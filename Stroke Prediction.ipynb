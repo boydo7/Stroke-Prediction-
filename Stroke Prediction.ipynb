{
 "cells": [
  {
   "cell_type": "markdown",
   "metadata": {},
   "source": [
    "# Stroke Prediction"
   ]
  },
  {
   "cell_type": "code",
   "execution_count": 1,
   "metadata": {},
   "outputs": [],
   "source": [
    "import numpy as np\n",
    "import pandas as pd\n",
    "import matplotlib.pyplot as plt\n",
    "import plotly.figure_factory as ff\n",
    "import seaborn as sns\n",
    "import sklearn\n",
    "import xgboost as xgb\n",
    "\n",
    "pd.set_option('display.max_columns', None)\n",
    "import warnings\n",
    "warnings.filterwarnings(\"ignore\")\n",
    "warnings.filterwarnings(\"ignore\", category=DeprecationWarning) \n",
    "warnings.filterwarnings(\"ignore\", category=FutureWarning) \n",
    "warnings.filterwarnings(\"ignore\", category=UserWarning) \n"
   ]
  },
  {
   "cell_type": "code",
   "execution_count": 2,
   "metadata": {},
   "outputs": [],
   "source": [
    "from sklearn.preprocessing import LabelEncoder\n",
    "from sklearn.model_selection import train_test_split, cross_val_score\n",
    "from sklearn.metrics import roc_auc_score\n",
    "from sklearn.metrics import accuracy_score, confusion_matrix, classification_report\n",
    "from sklearn.tree import DecisionTreeClassifier\n",
    "from sklearn.linear_model import  SGDClassifier\n",
    "from sklearn.ensemble import RandomForestClassifier\n",
    "from sklearn.naive_bayes import GaussianNB\n",
    "from sklearn.ensemble import GradientBoostingClassifier\n",
    "from xgboost import XGBClassifier\n",
    "from sklearn.linear_model import LogisticRegression"
   ]
  },
  {
   "cell_type": "code",
   "execution_count": 3,
   "metadata": {},
   "outputs": [],
   "source": [
    "train=pd.read_csv('train.csv') # Load train dataset into dataframe"
   ]
  },
  {
   "cell_type": "code",
   "execution_count": 4,
   "metadata": {},
   "outputs": [],
   "source": [
    "test=pd.read_csv('test.csv') # Load test dataset into dataframe"
   ]
  },
  {
   "cell_type": "code",
   "execution_count": 5,
   "metadata": {},
   "outputs": [],
   "source": [
    "submission=pd.read_csv('submission.csv') # Load submission dataset into dataframe"
   ]
  },
  {
   "attachments": {},
   "cell_type": "markdown",
   "metadata": {},
   "source": [
    "# Data Exploration"
   ]
  },
  {
   "cell_type": "code",
   "execution_count": 6,
   "metadata": {},
   "outputs": [
    {
     "name": "stdout",
     "output_type": "stream",
     "text": [
      "Shape of dataset : (15304, 12)\n"
     ]
    },
    {
     "data": {
      "text/html": [
       "<div>\n",
       "<style scoped>\n",
       "    .dataframe tbody tr th:only-of-type {\n",
       "        vertical-align: middle;\n",
       "    }\n",
       "\n",
       "    .dataframe tbody tr th {\n",
       "        vertical-align: top;\n",
       "    }\n",
       "\n",
       "    .dataframe thead th {\n",
       "        text-align: right;\n",
       "    }\n",
       "</style>\n",
       "<table border=\"1\" class=\"dataframe\">\n",
       "  <thead>\n",
       "    <tr style=\"text-align: right;\">\n",
       "      <th></th>\n",
       "      <th>id</th>\n",
       "      <th>gender</th>\n",
       "      <th>age</th>\n",
       "      <th>hypertension</th>\n",
       "      <th>heart_disease</th>\n",
       "      <th>ever_married</th>\n",
       "      <th>work_type</th>\n",
       "      <th>Residence_type</th>\n",
       "      <th>avg_glucose_level</th>\n",
       "      <th>bmi</th>\n",
       "      <th>smoking_status</th>\n",
       "      <th>stroke</th>\n",
       "    </tr>\n",
       "  </thead>\n",
       "  <tbody>\n",
       "    <tr>\n",
       "      <th>0</th>\n",
       "      <td>0</td>\n",
       "      <td>Male</td>\n",
       "      <td>28.0</td>\n",
       "      <td>0</td>\n",
       "      <td>0</td>\n",
       "      <td>Yes</td>\n",
       "      <td>Private</td>\n",
       "      <td>Urban</td>\n",
       "      <td>79.53</td>\n",
       "      <td>31.1</td>\n",
       "      <td>never smoked</td>\n",
       "      <td>0</td>\n",
       "    </tr>\n",
       "    <tr>\n",
       "      <th>1</th>\n",
       "      <td>1</td>\n",
       "      <td>Male</td>\n",
       "      <td>33.0</td>\n",
       "      <td>0</td>\n",
       "      <td>0</td>\n",
       "      <td>Yes</td>\n",
       "      <td>Private</td>\n",
       "      <td>Rural</td>\n",
       "      <td>78.44</td>\n",
       "      <td>23.9</td>\n",
       "      <td>formerly smoked</td>\n",
       "      <td>0</td>\n",
       "    </tr>\n",
       "    <tr>\n",
       "      <th>2</th>\n",
       "      <td>2</td>\n",
       "      <td>Female</td>\n",
       "      <td>42.0</td>\n",
       "      <td>0</td>\n",
       "      <td>0</td>\n",
       "      <td>Yes</td>\n",
       "      <td>Private</td>\n",
       "      <td>Rural</td>\n",
       "      <td>103.00</td>\n",
       "      <td>40.3</td>\n",
       "      <td>Unknown</td>\n",
       "      <td>0</td>\n",
       "    </tr>\n",
       "    <tr>\n",
       "      <th>3</th>\n",
       "      <td>3</td>\n",
       "      <td>Male</td>\n",
       "      <td>56.0</td>\n",
       "      <td>0</td>\n",
       "      <td>0</td>\n",
       "      <td>Yes</td>\n",
       "      <td>Private</td>\n",
       "      <td>Urban</td>\n",
       "      <td>64.87</td>\n",
       "      <td>28.8</td>\n",
       "      <td>never smoked</td>\n",
       "      <td>0</td>\n",
       "    </tr>\n",
       "    <tr>\n",
       "      <th>4</th>\n",
       "      <td>4</td>\n",
       "      <td>Female</td>\n",
       "      <td>24.0</td>\n",
       "      <td>0</td>\n",
       "      <td>0</td>\n",
       "      <td>No</td>\n",
       "      <td>Private</td>\n",
       "      <td>Rural</td>\n",
       "      <td>73.36</td>\n",
       "      <td>28.8</td>\n",
       "      <td>never smoked</td>\n",
       "      <td>0</td>\n",
       "    </tr>\n",
       "  </tbody>\n",
       "</table>\n",
       "</div>"
      ],
      "text/plain": [
       "   id  gender   age  hypertension  heart_disease ever_married work_type  \\\n",
       "0   0    Male  28.0             0              0          Yes   Private   \n",
       "1   1    Male  33.0             0              0          Yes   Private   \n",
       "2   2  Female  42.0             0              0          Yes   Private   \n",
       "3   3    Male  56.0             0              0          Yes   Private   \n",
       "4   4  Female  24.0             0              0           No   Private   \n",
       "\n",
       "  Residence_type  avg_glucose_level   bmi   smoking_status  stroke  \n",
       "0          Urban              79.53  31.1     never smoked       0  \n",
       "1          Rural              78.44  23.9  formerly smoked       0  \n",
       "2          Rural             103.00  40.3          Unknown       0  \n",
       "3          Urban              64.87  28.8     never smoked       0  \n",
       "4          Rural              73.36  28.8     never smoked       0  "
      ]
     },
     "execution_count": 6,
     "metadata": {},
     "output_type": "execute_result"
    }
   ],
   "source": [
    "print('Shape of dataset :',train.shape)\n",
    "train.head() #overview of the dataset"
   ]
  },
  {
   "cell_type": "code",
   "execution_count": 7,
   "metadata": {},
   "outputs": [
    {
     "data": {
      "text/html": [
       "<div>\n",
       "<style scoped>\n",
       "    .dataframe tbody tr th:only-of-type {\n",
       "        vertical-align: middle;\n",
       "    }\n",
       "\n",
       "    .dataframe tbody tr th {\n",
       "        vertical-align: top;\n",
       "    }\n",
       "\n",
       "    .dataframe thead th {\n",
       "        text-align: right;\n",
       "    }\n",
       "</style>\n",
       "<table border=\"1\" class=\"dataframe\">\n",
       "  <thead>\n",
       "    <tr style=\"text-align: right;\">\n",
       "      <th></th>\n",
       "      <th>id</th>\n",
       "      <th>age</th>\n",
       "      <th>hypertension</th>\n",
       "      <th>heart_disease</th>\n",
       "      <th>avg_glucose_level</th>\n",
       "      <th>bmi</th>\n",
       "      <th>stroke</th>\n",
       "    </tr>\n",
       "  </thead>\n",
       "  <tbody>\n",
       "    <tr>\n",
       "      <th>count</th>\n",
       "      <td>15304.000000</td>\n",
       "      <td>15304.000000</td>\n",
       "      <td>15304.000000</td>\n",
       "      <td>15304.000000</td>\n",
       "      <td>15304.000000</td>\n",
       "      <td>15304.000000</td>\n",
       "      <td>15304.000000</td>\n",
       "    </tr>\n",
       "    <tr>\n",
       "      <th>mean</th>\n",
       "      <td>7651.500000</td>\n",
       "      <td>41.417708</td>\n",
       "      <td>0.049726</td>\n",
       "      <td>0.023327</td>\n",
       "      <td>89.039853</td>\n",
       "      <td>28.112721</td>\n",
       "      <td>0.041296</td>\n",
       "    </tr>\n",
       "    <tr>\n",
       "      <th>std</th>\n",
       "      <td>4418.028595</td>\n",
       "      <td>21.444673</td>\n",
       "      <td>0.217384</td>\n",
       "      <td>0.150946</td>\n",
       "      <td>25.476102</td>\n",
       "      <td>6.722315</td>\n",
       "      <td>0.198981</td>\n",
       "    </tr>\n",
       "    <tr>\n",
       "      <th>min</th>\n",
       "      <td>0.000000</td>\n",
       "      <td>0.080000</td>\n",
       "      <td>0.000000</td>\n",
       "      <td>0.000000</td>\n",
       "      <td>55.220000</td>\n",
       "      <td>10.300000</td>\n",
       "      <td>0.000000</td>\n",
       "    </tr>\n",
       "    <tr>\n",
       "      <th>25%</th>\n",
       "      <td>3825.750000</td>\n",
       "      <td>26.000000</td>\n",
       "      <td>0.000000</td>\n",
       "      <td>0.000000</td>\n",
       "      <td>74.900000</td>\n",
       "      <td>23.500000</td>\n",
       "      <td>0.000000</td>\n",
       "    </tr>\n",
       "    <tr>\n",
       "      <th>50%</th>\n",
       "      <td>7651.500000</td>\n",
       "      <td>43.000000</td>\n",
       "      <td>0.000000</td>\n",
       "      <td>0.000000</td>\n",
       "      <td>85.120000</td>\n",
       "      <td>27.600000</td>\n",
       "      <td>0.000000</td>\n",
       "    </tr>\n",
       "    <tr>\n",
       "      <th>75%</th>\n",
       "      <td>11477.250000</td>\n",
       "      <td>57.000000</td>\n",
       "      <td>0.000000</td>\n",
       "      <td>0.000000</td>\n",
       "      <td>96.980000</td>\n",
       "      <td>32.000000</td>\n",
       "      <td>0.000000</td>\n",
       "    </tr>\n",
       "    <tr>\n",
       "      <th>max</th>\n",
       "      <td>15303.000000</td>\n",
       "      <td>82.000000</td>\n",
       "      <td>1.000000</td>\n",
       "      <td>1.000000</td>\n",
       "      <td>267.600000</td>\n",
       "      <td>80.100000</td>\n",
       "      <td>1.000000</td>\n",
       "    </tr>\n",
       "  </tbody>\n",
       "</table>\n",
       "</div>"
      ],
      "text/plain": [
       "                 id           age  hypertension  heart_disease  \\\n",
       "count  15304.000000  15304.000000  15304.000000   15304.000000   \n",
       "mean    7651.500000     41.417708      0.049726       0.023327   \n",
       "std     4418.028595     21.444673      0.217384       0.150946   \n",
       "min        0.000000      0.080000      0.000000       0.000000   \n",
       "25%     3825.750000     26.000000      0.000000       0.000000   \n",
       "50%     7651.500000     43.000000      0.000000       0.000000   \n",
       "75%    11477.250000     57.000000      0.000000       0.000000   \n",
       "max    15303.000000     82.000000      1.000000       1.000000   \n",
       "\n",
       "       avg_glucose_level           bmi        stroke  \n",
       "count       15304.000000  15304.000000  15304.000000  \n",
       "mean           89.039853     28.112721      0.041296  \n",
       "std            25.476102      6.722315      0.198981  \n",
       "min            55.220000     10.300000      0.000000  \n",
       "25%            74.900000     23.500000      0.000000  \n",
       "50%            85.120000     27.600000      0.000000  \n",
       "75%            96.980000     32.000000      0.000000  \n",
       "max           267.600000     80.100000      1.000000  "
      ]
     },
     "execution_count": 7,
     "metadata": {},
     "output_type": "execute_result"
    }
   ],
   "source": [
    "train.describe()"
   ]
  },
  {
   "cell_type": "code",
   "execution_count": 8,
   "metadata": {},
   "outputs": [],
   "source": [
    "train.hypertension = train.hypertension.map({1: 'yes', 0: 'no'}) # Map values in 'hypertension' column\n",
    "train.heart_disease = train.heart_disease.map({1: 'yes', 0: 'no'}) # Map values in 'heart_disease' column\n",
    "train.stroke = train.stroke.map({1: 'yes', 0: 'no'}) # Map values in 'stroke' column\n",
    "\n",
    "train.rename(columns={\"gender\": \"Gender\",\"age\": \"Age\",\"hypertension\":\"Hypertension\",\n",
    "        \"heart_disease\":\"Heart Disease\",\"ever_married\":\"Marital Status\",\"work_type\":\"Occupation Type\",\n",
    "        \"Residence_type\":\"Residence Type\",\"avg_glucose_level\": \"Average Glucose Level\",\"bmi\":\"BMI\",\n",
    "        \"smoking_status\":\"Smoking Status\",\"stroke\":\"Stroke\"}, inplace = True)\n",
    "\n",
    "# Make visualization and analysis of data easier to interpret"
   ]
  },
  {
   "cell_type": "code",
   "execution_count": 9,
   "metadata": {},
   "outputs": [],
   "source": [
    "train=train.drop(['id'],axis=1) #Drop unimportant data"
   ]
  },
  {
   "cell_type": "code",
   "execution_count": 10,
   "metadata": {},
   "outputs": [],
   "source": [
    "#train=train.drop(labels=9363,axis=0)\n",
    "#train[train['gender']=='Other']"
   ]
  },
  {
   "cell_type": "code",
   "execution_count": 11,
   "metadata": {},
   "outputs": [],
   "source": [
    "#df.to_csv(r'C:\\Users\\Boydo\\Downloads\\dataset_stroke.csv')"
   ]
  },
  {
   "cell_type": "code",
   "execution_count": 12,
   "metadata": {},
   "outputs": [
    {
     "data": {
      "text/html": [
       "<div>\n",
       "<style scoped>\n",
       "    .dataframe tbody tr th:only-of-type {\n",
       "        vertical-align: middle;\n",
       "    }\n",
       "\n",
       "    .dataframe tbody tr th {\n",
       "        vertical-align: top;\n",
       "    }\n",
       "\n",
       "    .dataframe thead th {\n",
       "        text-align: right;\n",
       "    }\n",
       "</style>\n",
       "<table border=\"1\" class=\"dataframe\">\n",
       "  <thead>\n",
       "    <tr style=\"text-align: right;\">\n",
       "      <th></th>\n",
       "      <th>Gender</th>\n",
       "      <th>Age</th>\n",
       "      <th>Hypertension</th>\n",
       "      <th>Heart Disease</th>\n",
       "      <th>Marital Status</th>\n",
       "      <th>Occupation Type</th>\n",
       "      <th>Residence Type</th>\n",
       "      <th>Average Glucose Level</th>\n",
       "      <th>BMI</th>\n",
       "      <th>Smoking Status</th>\n",
       "      <th>Stroke</th>\n",
       "    </tr>\n",
       "  </thead>\n",
       "  <tbody>\n",
       "    <tr>\n",
       "      <th>0</th>\n",
       "      <td>Male</td>\n",
       "      <td>28.0</td>\n",
       "      <td>no</td>\n",
       "      <td>no</td>\n",
       "      <td>Yes</td>\n",
       "      <td>Private</td>\n",
       "      <td>Urban</td>\n",
       "      <td>79.53</td>\n",
       "      <td>31.1</td>\n",
       "      <td>never smoked</td>\n",
       "      <td>no</td>\n",
       "    </tr>\n",
       "    <tr>\n",
       "      <th>1</th>\n",
       "      <td>Male</td>\n",
       "      <td>33.0</td>\n",
       "      <td>no</td>\n",
       "      <td>no</td>\n",
       "      <td>Yes</td>\n",
       "      <td>Private</td>\n",
       "      <td>Rural</td>\n",
       "      <td>78.44</td>\n",
       "      <td>23.9</td>\n",
       "      <td>formerly smoked</td>\n",
       "      <td>no</td>\n",
       "    </tr>\n",
       "    <tr>\n",
       "      <th>2</th>\n",
       "      <td>Female</td>\n",
       "      <td>42.0</td>\n",
       "      <td>no</td>\n",
       "      <td>no</td>\n",
       "      <td>Yes</td>\n",
       "      <td>Private</td>\n",
       "      <td>Rural</td>\n",
       "      <td>103.00</td>\n",
       "      <td>40.3</td>\n",
       "      <td>Unknown</td>\n",
       "      <td>no</td>\n",
       "    </tr>\n",
       "    <tr>\n",
       "      <th>3</th>\n",
       "      <td>Male</td>\n",
       "      <td>56.0</td>\n",
       "      <td>no</td>\n",
       "      <td>no</td>\n",
       "      <td>Yes</td>\n",
       "      <td>Private</td>\n",
       "      <td>Urban</td>\n",
       "      <td>64.87</td>\n",
       "      <td>28.8</td>\n",
       "      <td>never smoked</td>\n",
       "      <td>no</td>\n",
       "    </tr>\n",
       "    <tr>\n",
       "      <th>4</th>\n",
       "      <td>Female</td>\n",
       "      <td>24.0</td>\n",
       "      <td>no</td>\n",
       "      <td>no</td>\n",
       "      <td>No</td>\n",
       "      <td>Private</td>\n",
       "      <td>Rural</td>\n",
       "      <td>73.36</td>\n",
       "      <td>28.8</td>\n",
       "      <td>never smoked</td>\n",
       "      <td>no</td>\n",
       "    </tr>\n",
       "    <tr>\n",
       "      <th>5</th>\n",
       "      <td>Female</td>\n",
       "      <td>34.0</td>\n",
       "      <td>no</td>\n",
       "      <td>no</td>\n",
       "      <td>Yes</td>\n",
       "      <td>Private</td>\n",
       "      <td>Urban</td>\n",
       "      <td>84.35</td>\n",
       "      <td>22.2</td>\n",
       "      <td>Unknown</td>\n",
       "      <td>no</td>\n",
       "    </tr>\n",
       "    <tr>\n",
       "      <th>6</th>\n",
       "      <td>Female</td>\n",
       "      <td>53.0</td>\n",
       "      <td>no</td>\n",
       "      <td>no</td>\n",
       "      <td>Yes</td>\n",
       "      <td>Private</td>\n",
       "      <td>Rural</td>\n",
       "      <td>88.97</td>\n",
       "      <td>25.3</td>\n",
       "      <td>never smoked</td>\n",
       "      <td>no</td>\n",
       "    </tr>\n",
       "    <tr>\n",
       "      <th>7</th>\n",
       "      <td>Male</td>\n",
       "      <td>78.0</td>\n",
       "      <td>no</td>\n",
       "      <td>yes</td>\n",
       "      <td>Yes</td>\n",
       "      <td>Self-employed</td>\n",
       "      <td>Rural</td>\n",
       "      <td>75.32</td>\n",
       "      <td>24.8</td>\n",
       "      <td>Unknown</td>\n",
       "      <td>no</td>\n",
       "    </tr>\n",
       "    <tr>\n",
       "      <th>8</th>\n",
       "      <td>Female</td>\n",
       "      <td>45.0</td>\n",
       "      <td>no</td>\n",
       "      <td>no</td>\n",
       "      <td>Yes</td>\n",
       "      <td>Private</td>\n",
       "      <td>Rural</td>\n",
       "      <td>107.22</td>\n",
       "      <td>34.1</td>\n",
       "      <td>never smoked</td>\n",
       "      <td>no</td>\n",
       "    </tr>\n",
       "    <tr>\n",
       "      <th>9</th>\n",
       "      <td>Female</td>\n",
       "      <td>62.0</td>\n",
       "      <td>no</td>\n",
       "      <td>no</td>\n",
       "      <td>Yes</td>\n",
       "      <td>Govt_job</td>\n",
       "      <td>Urban</td>\n",
       "      <td>62.68</td>\n",
       "      <td>18.4</td>\n",
       "      <td>formerly smoked</td>\n",
       "      <td>no</td>\n",
       "    </tr>\n",
       "  </tbody>\n",
       "</table>\n",
       "</div>"
      ],
      "text/plain": [
       "   Gender   Age Hypertension Heart Disease Marital Status Occupation Type  \\\n",
       "0    Male  28.0           no            no            Yes         Private   \n",
       "1    Male  33.0           no            no            Yes         Private   \n",
       "2  Female  42.0           no            no            Yes         Private   \n",
       "3    Male  56.0           no            no            Yes         Private   \n",
       "4  Female  24.0           no            no             No         Private   \n",
       "5  Female  34.0           no            no            Yes         Private   \n",
       "6  Female  53.0           no            no            Yes         Private   \n",
       "7    Male  78.0           no           yes            Yes   Self-employed   \n",
       "8  Female  45.0           no            no            Yes         Private   \n",
       "9  Female  62.0           no            no            Yes        Govt_job   \n",
       "\n",
       "  Residence Type  Average Glucose Level   BMI   Smoking Status Stroke  \n",
       "0          Urban                  79.53  31.1     never smoked     no  \n",
       "1          Rural                  78.44  23.9  formerly smoked     no  \n",
       "2          Rural                 103.00  40.3          Unknown     no  \n",
       "3          Urban                  64.87  28.8     never smoked     no  \n",
       "4          Rural                  73.36  28.8     never smoked     no  \n",
       "5          Urban                  84.35  22.2          Unknown     no  \n",
       "6          Rural                  88.97  25.3     never smoked     no  \n",
       "7          Rural                  75.32  24.8          Unknown     no  \n",
       "8          Rural                 107.22  34.1     never smoked     no  \n",
       "9          Urban                  62.68  18.4  formerly smoked     no  "
      ]
     },
     "execution_count": 12,
     "metadata": {},
     "output_type": "execute_result"
    }
   ],
   "source": [
    "train.head(10)"
   ]
  },
  {
   "cell_type": "markdown",
   "metadata": {},
   "source": [
    "# Visualization"
   ]
  },
  {
   "cell_type": "code",
   "execution_count": 13,
   "metadata": {},
   "outputs": [
    {
     "data": {
      "text/plain": [
       "Text(0.5, 1.0, '\\nStroke Patients Age Distribution\\n')"
      ]
     },
     "execution_count": 13,
     "metadata": {},
     "output_type": "execute_result"
    },
    {
     "data": {
      "image/png": "[encoded data removed]",
      "text/plain": [
       "<Figure size 432x288 with 1 Axes>"
      ]
     },
     "metadata": {
      "needs_background": "light"
     },
     "output_type": "display_data"
    }
   ],
   "source": [
    "sns.histplot(data=train[train[\"Stroke\"] == \"yes\"],x=\"Age\",hue=\"Gender\",multiple=\"stack\",kde=True,bins=30,alpha=1,linewidth=2)\n",
    "plt.title('\\nStroke Patients Age Distribution\\n',fontsize=15)"
   ]
  },
  {
   "cell_type": "code",
   "execution_count": 14,
   "metadata": {},
   "outputs": [
    {
     "data": {
      "text/plain": [
       "<matplotlib.legend.Legend at 0x29c783ea0a0>"
      ]
     },
     "execution_count": 14,
     "metadata": {},
     "output_type": "execute_result"
    },
    {
     "data": {
      "image/png": "[encoded data removed]",
      "text/plain": [
       "<Figure size 720x288 with 2 Axes>"
      ]
     },
     "metadata": {
      "needs_background": "light"
     },
     "output_type": "display_data"
    }
   ],
   "source": [
    "fig, ax = plt.subplots(nrows=1, ncols=2, figsize=(10,4))\n",
    "\n",
    "sns.countplot(y=train[train[\"Stroke\"]==\"yes\"][\"Gender\"],order=train[train[\"Stroke\"]==\"yes\"][\"Gender\"].value_counts(ascending=True).index, \n",
    "saturation=1, edgecolor = \"#1c1c1c\", linewidth = 3,ax=ax[0])\n",
    "\n",
    "plt.title(\"\\nStroke Patient's Age On Gender\\n\",fontsize=15)\n",
    "\n",
    "labels = \"Male\",\"Female\"\n",
    "\n",
    "plt.pie([train[train[\"Stroke\"] == \"yes\"][\"Gender\"].value_counts(ascending=True).values[0],\n",
    "        train[train[\"Stroke\"] == \"yes\"][\"Gender\"].value_counts(ascending=True).values[1]], explode = (0,0),\n",
    "        textprops=dict(size= 10, color= \"white\"),\n",
    "        autopct=\"%.2f%%\",startangle = 120,wedgeprops=dict( edgecolor = \"black\", linewidth = 3))\n",
    "\n",
    "plt.legend( labels, title=\"Gender\",loc=\"center left\",bbox_to_anchor=(1, 0, 0.5, 1), edgecolor = \"black\")\n",
    "\n"
   ]
  },
  {
   "cell_type": "code",
   "execution_count": 15,
   "metadata": {},
   "outputs": [
    {
     "data": {
      "text/plain": [
       "<matplotlib.legend.Legend at 0x29c784b5160>"
      ]
     },
     "execution_count": 15,
     "metadata": {},
     "output_type": "execute_result"
    },
    {
     "data": {
      "image/png": "[encoded data removed]",
      "text/plain": [
       "<Figure size 720x288 with 2 Axes>"
      ]
     },
     "metadata": {
      "needs_background": "light"
     },
     "output_type": "display_data"
    }
   ],
   "source": [
    "fig, ax = plt.subplots(nrows=1, ncols=2, figsize=(10,4))\n",
    "\n",
    "\n",
    "sns.countplot(y=train[train[\"Stroke\"]==\"yes\"][\"Smoking Status\"],order=train[train[\"Stroke\"]==\"yes\"][\"Smoking Status\"].value_counts(ascending=False).index, \n",
    "            saturation=1, edgecolor = \"#1c1c1c\", linewidth = 3,ax=ax[0])\n",
    "plt.title(\"\\nStroke Patient's Smoking Status\",fontsize=15)\n",
    "\n",
    "labels = \"Never Smoked\",\"Formerly Smoked\",\"Smokes\",\"Unknown\"\n",
    "\n",
    "plt.pie([train[train[\"Stroke\"] == \"yes\"][\"Smoking Status\"].value_counts(ascending=False).values[0],\n",
    "        train[train[\"Stroke\"] == \"yes\"][\"Smoking Status\"].value_counts(ascending=False).values[1],\n",
    "        train[train[\"Stroke\"] == \"yes\"][\"Smoking Status\"].value_counts(ascending=False).values[2],\n",
    "        train[train[\"Stroke\"] == \"yes\"][\"Smoking Status\"].value_counts(ascending=False).values[3]],\n",
    "        textprops=dict(size= 10, color= \"white\"),autopct=\"%.2f%%\",startangle = 180,wedgeprops=dict( edgecolor = \"black\", linewidth = 3))\n",
    "\n",
    "plt.legend(labels, title=\"Smoking Status\",loc=\"center left\",bbox_to_anchor=(1, 0, 0.5, 1), edgecolor = \"black\")"
   ]
  },
  {
   "cell_type": "code",
   "execution_count": 16,
   "metadata": {},
   "outputs": [
    {
     "data": {
      "text/plain": [
       "<matplotlib.legend.Legend at 0x29c78568fd0>"
      ]
     },
     "execution_count": 16,
     "metadata": {},
     "output_type": "execute_result"
    },
    {
     "data": {
      "image/png": "[encoded data removed]",
      "text/plain": [
       "<Figure size 720x288 with 2 Axes>"
      ]
     },
     "metadata": {
      "needs_background": "light"
     },
     "output_type": "display_data"
    }
   ],
   "source": [
    "fig, ax = plt.subplots(nrows=1, ncols=2, figsize=(10,4))\n",
    "\n",
    "sns.countplot(y=train[train[\"Stroke\"]==\"yes\"][\"Marital Status\"],order=train[train[\"Stroke\"]==\"yes\"][\"Marital Status\"].value_counts(ascending=False).index, \n",
    "            saturation=1, edgecolor = \"#1c1c1c\", linewidth = 3,ax=ax[0])\n",
    "\n",
    "plt.title(\"\\nStroke Patient's Marital Status\",fontsize=15)\n",
    "\n",
    "labels = \"Married\",\"Unmarried\"\n",
    "\n",
    "plt.pie([train[train[\"Stroke\"] == \"yes\"][\"Marital Status\"].value_counts(ascending=False).values[0],\n",
    "        train[train[\"Stroke\"] == \"yes\"][\"Marital Status\"].value_counts(ascending=False).values[1]],\n",
    "        textprops=dict(size= 8, color= \"white\"),\n",
    "        autopct=\"%.2f%%\", wedgeprops=dict( edgecolor = \"black\", linewidth = 3),startangle = 90)\n",
    "\n",
    "plt.legend( labels, title=\"Marital Status\",loc=\"center left\",bbox_to_anchor=(1, 0, 0.5, 1), edgecolor = \"black\")\n"
   ]
  },
  {
   "cell_type": "code",
   "execution_count": 17,
   "metadata": {},
   "outputs": [
    {
     "data": {
      "text/plain": [
       "Text(0.5, 1.0, '\\nStroke Patients BMI Distribution\\n')"
      ]
     },
     "execution_count": 17,
     "metadata": {},
     "output_type": "execute_result"
    },
    {
     "data": {
      "image/png": "[encoded data removed]",
      "text/plain": [
       "<Figure size 432x288 with 1 Axes>"
      ]
     },
     "metadata": {
      "needs_background": "light"
     },
     "output_type": "display_data"
    }
   ],
   "source": [
    "sns.histplot(data=train[train[\"Stroke\"] == \"yes\"],x=\"BMI\",hue=\"Gender\",multiple=\"stack\",\n",
    "kde=True,bins=30,alpha=1,fill=True,linewidth=2)\n",
    "plt.title('\\nStroke Patients BMI Distribution\\n',fontsize=15)"
   ]
  },
  {
   "cell_type": "code",
   "execution_count": 18,
   "metadata": {},
   "outputs": [
    {
     "data": {
      "text/plain": [
       "Text(0.5, 1.0, \"\\nStroke Patient's Heart Disease\")"
      ]
     },
     "execution_count": 18,
     "metadata": {},
     "output_type": "execute_result"
    },
    {
     "data": {
      "image/png": "[encoded data removed]",
      "text/plain": [
       "<Figure size 720x288 with 2 Axes>"
      ]
     },
     "metadata": {
      "needs_background": "light"
     },
     "output_type": "display_data"
    }
   ],
   "source": [
    "fig, ax = plt.subplots(nrows=1, ncols=2, figsize=(10,4))\n",
    "\n",
    "sns.countplot(y=train[train[\"Stroke\"]==\"yes\"][\"Heart Disease\"],order=train[train[\"Stroke\"]==\"yes\"][\"Heart Disease\"].value_counts(ascending=False).index, \n",
    "saturation=1, edgecolor = \"#1c1c1c\", linewidth = 3,ax=ax[0])\n",
    "\n",
    "labels = \"No\",\"Yes\"\n",
    "\n",
    "plt.pie([train[train[\"Stroke\"] == \"yes\"][\"Heart Disease\"].value_counts(ascending=False).values[0],\n",
    "        train[train[\"Stroke\"] == \"yes\"][\"Heart Disease\"].value_counts(ascending=False).values[1]],\n",
    "        textprops=dict(size= 10, color= \"white\"),\n",
    "        autopct=\"%.2f%%\", wedgeprops=dict( edgecolor = \"black\", linewidth = 3),startangle = 75)\n",
    "\n",
    "plt.legend(labels, title=\"Heart Disease\",loc=\"center left\",bbox_to_anchor=(1, 0, 0.5, 1), edgecolor = \"black\")\n",
    "plt.title(\"\\nStroke Patient's Heart Disease\",fontsize=15)"
   ]
  },
  {
   "cell_type": "code",
   "execution_count": 19,
   "metadata": {},
   "outputs": [
    {
     "data": {
      "text/plain": [
       "Text(0.5, 1.0, \"\\nStroke Patient's Hypertension Status\")"
      ]
     },
     "execution_count": 19,
     "metadata": {},
     "output_type": "execute_result"
    },
    {
     "data": {
      "image/png": "[encoded data removed]",
      "text/plain": [
       "<Figure size 720x288 with 2 Axes>"
      ]
     },
     "metadata": {
      "needs_background": "light"
     },
     "output_type": "display_data"
    }
   ],
   "source": [
    "fig, ax = plt.subplots(nrows=1, ncols=2, figsize=(10,4))\n",
    "\n",
    "sns.countplot(y=train[train[\"Stroke\"]==\"yes\"][\"Hypertension\"],order=train[train[\"Stroke\"]==\"yes\"][\"Hypertension\"].value_counts(ascending=False).index, \n",
    "saturation=1, edgecolor = \"#1c1c1c\", linewidth = 3,ax=ax[0])\n",
    "\n",
    "plt.pie([train[train[\"Stroke\"] == \"yes\"][\"Hypertension\"].value_counts(ascending=False).values[0],\n",
    "        train[train[\"Stroke\"] == \"yes\"][\"Hypertension\"].value_counts(ascending=False).values[1]],\n",
    "        textprops=dict(size= 10, color= \"white\"),autopct=\"%.2f%%\", \n",
    "        wedgeprops=dict( edgecolor = \"black\", linewidth = 3),startangle = 90)\n",
    "plt.title(\"\\nStroke Patient's Hypertension Status\",fontsize=15)\n",
    "        "
   ]
  },
  {
   "cell_type": "code",
   "execution_count": 20,
   "metadata": {},
   "outputs": [
    {
     "data": {
      "text/plain": [
       "Text(0.5, 1.0, '\\nStroke Patients Average Glucose Level Distribution\\n')"
      ]
     },
     "execution_count": 20,
     "metadata": {},
     "output_type": "execute_result"
    },
    {
     "data": {
      "image/png": "[encoded data removed]",
      "text/plain": [
       "<Figure size 432x288 with 1 Axes>"
      ]
     },
     "metadata": {
      "needs_background": "light"
     },
     "output_type": "display_data"
    }
   ],
   "source": [
    "sns.histplot(data=train[train[\"Stroke\"]==\"yes\"],x=\"Average Glucose Level\",hue=\"Gender\",\n",
    "            multiple=\"stack\",kde=True,bins=30,alpha=1,fill=True,linewidth=2)\n",
    "plt.title('\\nStroke Patients Average Glucose Level Distribution\\n',fontsize=15)"
   ]
  },
  {
   "cell_type": "code",
   "execution_count": 21,
   "metadata": {},
   "outputs": [
    {
     "data": {
      "text/plain": [
       "Text(0.5, 1.0, \"\\nStroke Patient's Occupation Type\")"
      ]
     },
     "execution_count": 21,
     "metadata": {},
     "output_type": "execute_result"
    },
    {
     "data": {
      "image/png": "[encoded data removed]",
      "text/plain": [
       "<Figure size 720x288 with 2 Axes>"
      ]
     },
     "metadata": {
      "needs_background": "light"
     },
     "output_type": "display_data"
    }
   ],
   "source": [
    "fig, ax = plt.subplots(nrows=1, ncols=2, figsize=(10,4))\n",
    "\n",
    "sns.countplot(y=train[train[\"Stroke\"]==\"yes\"][\"Occupation Type\"],order=train[train[\"Stroke\"]==\"yes\"][\"Occupation Type\"].value_counts(ascending=False).index, \n",
    "saturation=1, edgecolor = \"#1c1c1c\", linewidth = 3,ax=ax[0])\n",
    "\n",
    "labels = \"Private Job\",\"Self Employed\",\"Government Job\"\n",
    "\n",
    "plt.pie([train[train[\"Stroke\"] == \"yes\"][\"Occupation Type\"].value_counts(ascending=False).values[0],\n",
    "        train[train[\"Stroke\"] == \"yes\"][\"Occupation Type\"].value_counts(ascending=False).values[1],\n",
    "        train[train[\"Stroke\"] == \"yes\"][\"Occupation Type\"].value_counts(ascending=False).values[2]],\n",
    "        textprops=dict(size= 10, color= \"white\"),autopct=\"%.2f%%\", \n",
    "        wedgeprops=dict( edgecolor = \"black\", linewidth = 3),startangle = -20)\n",
    "\n",
    "plt.legend( labels, title=\"Occupation Type\",loc=\"center left\",bbox_to_anchor=(1, 0, 0.5, 1), edgecolor = \"black\")\n",
    "plt.title(\"\\nStroke Patient's Occupation Type\",fontsize=15)"
   ]
  },
  {
   "cell_type": "code",
   "execution_count": 22,
   "metadata": {},
   "outputs": [
    {
     "data": {
      "text/plain": [
       "<matplotlib.legend.Legend at 0x29c78a27a60>"
      ]
     },
     "execution_count": 22,
     "metadata": {},
     "output_type": "execute_result"
    },
    {
     "data": {
      "image/png": "[encoded data removed]",
      "text/plain": [
       "<Figure size 720x288 with 2 Axes>"
      ]
     },
     "metadata": {
      "needs_background": "light"
     },
     "output_type": "display_data"
    }
   ],
   "source": [
    "fig, ax = plt.subplots(nrows=1, ncols=2, figsize=(10,4))\n",
    "\n",
    "sns.countplot(y=train[train[\"Stroke\"]==\"yes\"][\"Residence Type\"],order=train[train[\"Stroke\"]==\"yes\"][\"Residence Type\"].value_counts(ascending=False).index, \n",
    "saturation=1, edgecolor = \"#1c1c1c\", linewidth = 3,ax=ax[0])\n",
    "\n",
    "labels = \"Urban\",\"Rural\"\n",
    "\n",
    "plt.pie([train[train[\"Stroke\"] == \"yes\"][\"Residence Type\"].value_counts(ascending=False).values[0],\n",
    "                                    train[train[\"Stroke\"] == \"yes\"][\"Residence Type\"].value_counts(ascending=False).values[1]],\n",
    "                                   \n",
    "                                    textprops=dict(size= 10, color= \"white\"),\n",
    "                                    autopct=\"%.2f%%\", \n",
    "                                    \n",
    "                                    wedgeprops=dict( edgecolor = \"black\", \n",
    "                                    linewidth = 3),\n",
    "                                    startangle = 85)\n",
    "\n",
    "plt.title(\"\\nStroke Patient's Residence\",fontsize=15)\n",
    "\n",
    "plt.legend(labels, title=\"Residence Type\",loc=\"center left\",bbox_to_anchor=(1, 0, 0.5, 1), edgecolor = \"black\")"
   ]
  },
  {
   "attachments": {},
   "cell_type": "markdown",
   "metadata": {},
   "source": [
    "# Data Preparation"
   ]
  },
  {
   "cell_type": "code",
   "execution_count": 23,
   "metadata": {},
   "outputs": [],
   "source": [
    "df=train"
   ]
  },
  {
   "cell_type": "code",
   "execution_count": 24,
   "metadata": {},
   "outputs": [
    {
     "name": "stdout",
     "output_type": "stream",
     "text": [
      "Number of duplicates data :  0\n"
     ]
    }
   ],
   "source": [
    "print('Number of duplicates data : ',df.duplicated().sum()) # checking duplicated data"
   ]
  },
  {
   "cell_type": "code",
   "execution_count": 25,
   "metadata": {},
   "outputs": [
    {
     "data": {
      "text/plain": [
       "Series([], dtype: int64)"
      ]
     },
     "execution_count": 25,
     "metadata": {},
     "output_type": "execute_result"
    }
   ],
   "source": [
    "missing_data = df.isnull().sum(axis=0) #checking missing value\n",
    "missing_data = missing_data[missing_data>0]\n",
    "missing_data"
   ]
  },
  {
   "cell_type": "code",
   "execution_count": 26,
   "metadata": {},
   "outputs": [
    {
     "data": {
      "text/plain": [
       "{'Gender': {'Female': 0, 'Male': 1, 'Other': 2},\n",
       " 'Hypertension': {'no': 0, 'yes': 1},\n",
       " 'Heart Disease': {'no': 0, 'yes': 1},\n",
       " 'Marital Status': {'No': 0, 'Yes': 1},\n",
       " 'Occupation Type': {'Govt_job': 0,\n",
       "  'Never_worked': 1,\n",
       "  'Private': 2,\n",
       "  'Self-employed': 3,\n",
       "  'children': 4},\n",
       " 'Residence Type': {'Rural': 0, 'Urban': 1},\n",
       " 'Smoking Status': {'Unknown': 0,\n",
       "  'formerly smoked': 1,\n",
       "  'never smoked': 2,\n",
       "  'smokes': 3},\n",
       " 'Stroke': {'no': 0, 'yes': 1}}"
      ]
     },
     "execution_count": 26,
     "metadata": {},
     "output_type": "execute_result"
    }
   ],
   "source": [
    "catcol = [col for col in df.columns if df[col].dtype == \"object\"]\n",
    "le = LabelEncoder()\n",
    "label_mapping = {}\n",
    "for col in catcol:\n",
    "        df[col] = le.fit_transform(df[col])\n",
    "        label_mapping[col]= dict(zip(le.classes_,le.transform(le.classes_)))\n",
    "\n",
    "label_mapping"
   ]
  },
  {
   "cell_type": "markdown",
   "metadata": {},
   "source": [
    "# Correlation"
   ]
  },
  {
   "cell_type": "code",
   "execution_count": 27,
   "metadata": {},
   "outputs": [
    {
     "data": {
      "text/plain": [
       "Index(['Gender', 'Age', 'Hypertension', 'Heart Disease', 'Marital Status',\n",
       "       'Occupation Type', 'Residence Type', 'Average Glucose Level', 'BMI',\n",
       "       'Smoking Status', 'Stroke'],\n",
       "      dtype='object')"
      ]
     },
     "execution_count": 27,
     "metadata": {},
     "output_type": "execute_result"
    }
   ],
   "source": [
    "df.columns"
   ]
  },
  {
   "cell_type": "code",
   "execution_count": 28,
   "metadata": {},
   "outputs": [
    {
     "data": {
      "text/html": [
       "<div>\n",
       "<style scoped>\n",
       "    .dataframe tbody tr th:only-of-type {\n",
       "        vertical-align: middle;\n",
       "    }\n",
       "\n",
       "    .dataframe tbody tr th {\n",
       "        vertical-align: top;\n",
       "    }\n",
       "\n",
       "    .dataframe thead th {\n",
       "        text-align: right;\n",
       "    }\n",
       "</style>\n",
       "<table border=\"1\" class=\"dataframe\">\n",
       "  <thead>\n",
       "    <tr style=\"text-align: right;\">\n",
       "      <th></th>\n",
       "      <th>index</th>\n",
       "      <th>Stroke</th>\n",
       "    </tr>\n",
       "  </thead>\n",
       "  <tbody>\n",
       "    <tr>\n",
       "      <th>10</th>\n",
       "      <td>Stroke</td>\n",
       "      <td>1.000000</td>\n",
       "    </tr>\n",
       "    <tr>\n",
       "      <th>1</th>\n",
       "      <td>Age</td>\n",
       "      <td>0.261320</td>\n",
       "    </tr>\n",
       "    <tr>\n",
       "      <th>7</th>\n",
       "      <td>Average Glucose Level</td>\n",
       "      <td>0.149273</td>\n",
       "    </tr>\n",
       "    <tr>\n",
       "      <th>2</th>\n",
       "      <td>Hypertension</td>\n",
       "      <td>0.145895</td>\n",
       "    </tr>\n",
       "    <tr>\n",
       "      <th>4</th>\n",
       "      <td>Marital Status</td>\n",
       "      <td>0.114010</td>\n",
       "    </tr>\n",
       "    <tr>\n",
       "      <th>3</th>\n",
       "      <td>Heart Disease</td>\n",
       "      <td>0.111518</td>\n",
       "    </tr>\n",
       "    <tr>\n",
       "      <th>8</th>\n",
       "      <td>BMI</td>\n",
       "      <td>0.065393</td>\n",
       "    </tr>\n",
       "    <tr>\n",
       "      <th>9</th>\n",
       "      <td>Smoking Status</td>\n",
       "      <td>0.036189</td>\n",
       "    </tr>\n",
       "    <tr>\n",
       "      <th>0</th>\n",
       "      <td>Gender</td>\n",
       "      <td>0.014889</td>\n",
       "    </tr>\n",
       "    <tr>\n",
       "      <th>6</th>\n",
       "      <td>Residence Type</td>\n",
       "      <td>-0.000331</td>\n",
       "    </tr>\n",
       "    <tr>\n",
       "      <th>5</th>\n",
       "      <td>Occupation Type</td>\n",
       "      <td>-0.031777</td>\n",
       "    </tr>\n",
       "  </tbody>\n",
       "</table>\n",
       "</div>"
      ],
      "text/plain": [
       "                    index    Stroke\n",
       "10                 Stroke  1.000000\n",
       "1                     Age  0.261320\n",
       "7   Average Glucose Level  0.149273\n",
       "2            Hypertension  0.145895\n",
       "4          Marital Status  0.114010\n",
       "3           Heart Disease  0.111518\n",
       "8                     BMI  0.065393\n",
       "9          Smoking Status  0.036189\n",
       "0                  Gender  0.014889\n",
       "6          Residence Type -0.000331\n",
       "5         Occupation Type -0.031777"
      ]
     },
     "execution_count": 28,
     "metadata": {},
     "output_type": "execute_result"
    }
   ],
   "source": [
    "df2=df.corr().Stroke.reset_index().sort_values(by='Stroke',ascending=False)\n",
    "df2"
   ]
  },
  {
   "cell_type": "code",
   "execution_count": 29,
   "metadata": {},
   "outputs": [
    {
     "data": {
      "image/png": "[encoded data removed]",
      "text/plain": [
       "<Figure size 432x288 with 1 Axes>"
      ]
     },
     "metadata": {
      "needs_background": "light"
     },
     "output_type": "display_data"
    }
   ],
   "source": [
    "chart = sns.barplot(data=df2,x=\"index\",y=\"Stroke\",saturation=1, edgecolor = \"#000000\", linewidth = 3)\n",
    "\n",
    "for item in chart.get_xticklabels():\n",
    "  item.set_rotation(90)"
   ]
  },
  {
   "cell_type": "code",
   "execution_count": 30,
   "metadata": {},
   "outputs": [
    {
     "data": {
      "text/plain": [
       "<AxesSubplot:>"
      ]
     },
     "execution_count": 30,
     "metadata": {},
     "output_type": "execute_result"
    },
    {
     "data": {
      "image/png": "[encoded data removed]",
      "text/plain": [
       "<Figure size 432x288 with 2 Axes>"
      ]
     },
     "metadata": {
      "needs_background": "light"
     },
     "output_type": "display_data"
    }
   ],
   "source": [
    "sns.heatmap(df.corr(),cmap=\"Blues\", edgecolor = \"#1c1c1c\", linewidth = 3)"
   ]
  },
  {
   "cell_type": "markdown",
   "metadata": {},
   "source": [
    "# Machine Learning"
   ]
  },
  {
   "cell_type": "code",
   "execution_count": 31,
   "metadata": {},
   "outputs": [],
   "source": [
    "X=df.drop(columns=['Stroke','Residence Type','Smoking Status'],axis=1)\n",
    "y=df[['Stroke']].values.reshape(-1,1)\n",
    "\n",
    "import imblearn\n",
    "\n",
    "from imblearn.over_sampling import RandomOverSampler\n",
    "\n",
    "random_sampler=RandomOverSampler(sampling_strategy=0.5)\n",
    "X_over,y_over=random_sampler.fit_resample(X,y)\n",
    "\n",
    "train_X,test_X,train_y,test_y = train_test_split(X_over, y_over,test_size=0.2,random_state=0)"
   ]
  },
  {
   "attachments": {},
   "cell_type": "markdown",
   "metadata": {},
   "source": [
    "Logistic Regresion"
   ]
  },
  {
   "cell_type": "code",
   "execution_count": 32,
   "metadata": {},
   "outputs": [
    {
     "name": "stdout",
     "output_type": "stream",
     "text": [
      "Cross-Validation Scores: [0.8162199  0.82030895 0.80440709 0.80799818 0.81663258]\n"
     ]
    }
   ],
   "source": [
    "lr=LogisticRegression()\n",
    "lr.fit(train_X,train_y)\n",
    "cv_scores = cross_val_score(lr, X_over, y_over, cv=5) # Using 5-fold cross-validation\n",
    "print(f'Cross-Validation Scores: {cv_scores}')"
   ]
  },
  {
   "cell_type": "code",
   "execution_count": 33,
   "metadata": {},
   "outputs": [
    {
     "name": "stdout",
     "output_type": "stream",
     "text": [
      "Confusion Matrix : \n",
      "\n",
      "[[2594  342]\n",
      " [ 449 1017]]\n",
      "\n",
      "Classification Report : \n",
      "\n",
      "              precision    recall  f1-score   support\n",
      "\n",
      "           0       0.85      0.88      0.87      2936\n",
      "           1       0.75      0.69      0.72      1466\n",
      "\n",
      "    accuracy                           0.82      4402\n",
      "   macro avg       0.80      0.79      0.79      4402\n",
      "weighted avg       0.82      0.82      0.82      4402\n",
      "\n",
      "\n",
      "The Accuracy of Logistic Reggresion is 82.03 %\n",
      "ROC AUC score wiht Logistic Reggresion: 0.7886197032835088\n"
     ]
    }
   ],
   "source": [
    "lr_pred = lr.predict(test_X) #Predict on the test dataset\n",
    "\n",
    "lr_conf = confusion_matrix(test_y, lr_pred) # Confusion Matrix\n",
    "lr_report = classification_report(test_y, lr_pred) #Classification Report\n",
    "lr_acc = round(accuracy_score(test_y, lr_pred)*100, ndigits = 2) #Accuracy Score\n",
    "lr_rocauc=roc_auc_score(test_y, lr_pred) #ROC AUC Score\n",
    "\n",
    "#Print the results\n",
    "print(f\"Confusion Matrix : \\n\\n{lr_conf}\")\n",
    "print(f\"\\nClassification Report : \\n\\n{lr_report}\")\n",
    "print(f\"\\nThe Accuracy of Logistic Reggresion is {lr_acc} %\")\n",
    "print(f'ROC AUC score wiht Logistic Reggresion: {lr_rocauc}')"
   ]
  },
  {
   "attachments": {},
   "cell_type": "markdown",
   "metadata": {},
   "source": [
    "Decision Tree"
   ]
  },
  {
   "cell_type": "code",
   "execution_count": 34,
   "metadata": {},
   "outputs": [
    {
     "name": "stdout",
     "output_type": "stream",
     "text": [
      "Cross-Validation Scores: [0.97455702 0.97455702 0.97114948 0.97386958 0.97477846]\n"
     ]
    }
   ],
   "source": [
    "dtr=DecisionTreeClassifier()\n",
    "dtr.fit(train_X,train_y)\n",
    "cv_scores = cross_val_score(dtr, X_over, y_over, cv=5,scoring='accuracy')  # Using 5-fold cross-validation\n",
    "print(f'Cross-Validation Scores: {cv_scores}')"
   ]
  },
  {
   "cell_type": "code",
   "execution_count": 35,
   "metadata": {},
   "outputs": [
    {
     "name": "stdout",
     "output_type": "stream",
     "text": [
      "Confusion Matrix : \n",
      "\n",
      "[[2837   99]\n",
      " [   0 1466]]\n",
      "\n",
      "Classification Report : \n",
      "\n",
      "              precision    recall  f1-score   support\n",
      "\n",
      "           0       1.00      0.97      0.98      2936\n",
      "           1       0.94      1.00      0.97      1466\n",
      "\n",
      "    accuracy                           0.98      4402\n",
      "   macro avg       0.97      0.98      0.98      4402\n",
      "weighted avg       0.98      0.98      0.98      4402\n",
      "\n",
      "\n",
      "The Accuracy of Decision Tree is 97.751 %\n",
      "ROC AUC Score with Decision Tree: 0.9831403269754768\n"
     ]
    }
   ],
   "source": [
    "dtr_pred=dtr.predict(test_X) # Predictions on the test set\n",
    "\n",
    "dtr_conf=confusion_matrix(test_y,dtr_pred) # Confusion Matrix\n",
    "dtr_report=classification_report(test_y,dtr_pred) # Classification Report\n",
    "dtr_acc=round(accuracy_score(test_y,dtr_pred)*100,ndigits=3) # Accuracy Score\n",
    "dtr_rocauc=roc_auc_score(test_y, dtr_pred) #ROC AUC score\n",
    "\n",
    "# Print the result\n",
    "print(f\"Confusion Matrix : \\n\\n{dtr_conf}\")\n",
    "print(f\"\\nClassification Report : \\n\\n{dtr_report}\")\n",
    "print(f\"\\nThe Accuracy of Decision Tree is {dtr_acc} %\")\n",
    "print(f'ROC AUC Score with Decision Tree: {dtr_rocauc}')"
   ]
  },
  {
   "attachments": {},
   "cell_type": "markdown",
   "metadata": {},
   "source": [
    "Random Forest"
   ]
  },
  {
   "cell_type": "code",
   "execution_count": 36,
   "metadata": {},
   "outputs": [
    {
     "name": "stdout",
     "output_type": "stream",
     "text": [
      "Cross-Validation Scores: [0.98727851 0.98614266 0.98318946 0.98523063 0.98318564]\n"
     ]
    }
   ],
   "source": [
    "rfc = RandomForestClassifier() \n",
    "rfc.fit(train_X,train_y)\n",
    "cv_scores = cross_val_score(rfc, X_over, y_over, cv=5, scoring='accuracy')  # Using 5-fold cross-validation\n",
    "print(f'Cross-Validation Scores: {cv_scores}')\n"
   ]
  },
  {
   "cell_type": "code",
   "execution_count": 37,
   "metadata": {},
   "outputs": [
    {
     "name": "stdout",
     "output_type": "stream",
     "text": [
      "Confusion Matrix : \n",
      "\n",
      "[[2885   51]\n",
      " [   0 1466]]\n",
      "\n",
      "Classification Report : \n",
      "\n",
      "              precision    recall  f1-score   support\n",
      "\n",
      "           0       1.00      0.98      0.99      2936\n",
      "           1       0.97      1.00      0.98      1466\n",
      "\n",
      "    accuracy                           0.99      4402\n",
      "   macro avg       0.98      0.99      0.99      4402\n",
      "weighted avg       0.99      0.99      0.99      4402\n",
      "\n",
      "\n",
      "The Accuracy of Random Forest Classifier is 98.84 %\n",
      "ROC AUC score wiht Random Forest: 0.9913147138964578\n"
     ]
    }
   ],
   "source": [
    "rfc_pred = rfc.predict(test_X) # Predict on the test data set\n",
    "\n",
    "rfc_conf = confusion_matrix(test_y, rfc_pred) #Confusion Matrix\n",
    "rfc_report = classification_report(test_y, rfc_pred) # Classification Report\n",
    "rfc_acc = round(accuracy_score(test_y, rfc_pred)*100, ndigits = 2) # Accuracy Score\n",
    "rfc_rocauc=roc_auc_score(test_y, rfc_pred) #ROC AUC Score\n",
    "\n",
    "#Print the results\n",
    "print(f\"Confusion Matrix : \\n\\n{rfc_conf}\")\n",
    "print(f\"\\nClassification Report : \\n\\n{rfc_report}\")\n",
    "print(f\"\\nThe Accuracy of Random Forest Classifier is {rfc_acc} %\")\n",
    "print(f'ROC AUC score wiht Random Forest: {rfc_rocauc}')"
   ]
  },
  {
   "attachments": {},
   "cell_type": "markdown",
   "metadata": {},
   "source": [
    "Gradien"
   ]
  },
  {
   "cell_type": "code",
   "execution_count": 38,
   "metadata": {},
   "outputs": [
    {
     "name": "stdout",
     "output_type": "stream",
     "text": [
      "Cross-Validation Scores: [0.84007269 0.83870968 0.82825988 0.83708248 0.83844581]\n"
     ]
    }
   ],
   "source": [
    "gradien=GradientBoostingClassifier()\n",
    "gradien.fit(train_X,train_y)\n",
    "cv_scores = cross_val_score(gradien, X_over, y_over, cv=5,scoring='accuracy')  # Using 5-fold cross-validation\n",
    "print(f'Cross-Validation Scores: {cv_scores}')"
   ]
  },
  {
   "cell_type": "code",
   "execution_count": 39,
   "metadata": {},
   "outputs": [
    {
     "name": "stdout",
     "output_type": "stream",
     "text": [
      "Confusion Matrix : \n",
      "\n",
      "[[2616  320]\n",
      " [ 361 1105]]\n",
      "\n",
      "Classification Report : \n",
      "\n",
      "              precision    recall  f1-score   support\n",
      "\n",
      "           0       0.88      0.89      0.88      2936\n",
      "           1       0.78      0.75      0.76      1466\n",
      "\n",
      "    accuracy                           0.85      4402\n",
      "   macro avg       0.83      0.82      0.82      4402\n",
      "weighted avg       0.84      0.85      0.84      4402\n",
      "\n",
      "\n",
      "The Accuracy of Gradien Boost is 84.53 %\n",
      "ROC AUC score wiht Gradien Boost: 0.8223799398537607\n"
     ]
    }
   ],
   "source": [
    "gradien_pred=gradien.predict(test_X) # Predict on the test dataset\n",
    "\n",
    "gradien_conf=confusion_matrix(test_y,gradien_pred) #Confusion Matrix\n",
    "gradien_report=classification_report(test_y,gradien_pred) #Classification Matrix\n",
    "gradien_acc=round(accuracy_score(test_y,gradien_pred)*100,ndigits=3) # Accuracy Score\n",
    "gradien_rocauc=roc_auc_score(test_y, gradien_pred) #ROC AUC Score\n",
    "\n",
    "# Print the results\n",
    "print(f\"Confusion Matrix : \\n\\n{gradien_conf}\")\n",
    "print(f\"\\nClassification Report : \\n\\n{gradien_report}\")\n",
    "print(f\"\\nThe Accuracy of Gradien Boost is {gradien_acc} %\")\n",
    "print(f'ROC AUC score wiht Gradien Boost: {gradien_rocauc}')"
   ]
  },
  {
   "attachments": {},
   "cell_type": "markdown",
   "metadata": {},
   "source": [
    "SGD"
   ]
  },
  {
   "attachments": {},
   "cell_type": "markdown",
   "metadata": {},
   "source": [
    "Gaussian Naive Bayes"
   ]
  },
  {
   "cell_type": "code",
   "execution_count": 40,
   "metadata": {},
   "outputs": [
    {
     "name": "stdout",
     "output_type": "stream",
     "text": [
      "Cross-Validation Scores: [0.7558615  0.75654308 0.76308615]\n"
     ]
    }
   ],
   "source": [
    "gnb=GaussianNB()\n",
    "gnb.fit(train_X,train_y)\n",
    "cv_scores = cross_val_score(gnb, X_over, y_over, cv=3,scoring='accuracy')  # Using 5-fold cross-validation\n",
    "print(f'Cross-Validation Scores: {cv_scores}')"
   ]
  },
  {
   "cell_type": "code",
   "execution_count": 41,
   "metadata": {},
   "outputs": [
    {
     "name": "stdout",
     "output_type": "stream",
     "text": [
      "Confusion Matrix : \n",
      "\n",
      "[[2679  257]\n",
      " [ 780  686]]\n",
      "\n",
      "Classification Report : \n",
      "\n",
      "              precision    recall  f1-score   support\n",
      "\n",
      "           0       0.77      0.91      0.84      2936\n",
      "           1       0.73      0.47      0.57      1466\n",
      "\n",
      "    accuracy                           0.76      4402\n",
      "   macro avg       0.75      0.69      0.70      4402\n",
      "weighted avg       0.76      0.76      0.75      4402\n",
      "\n",
      "\n",
      "The Accuracy of Gaussian is 76.443 %\n",
      "ROC AUC Score with Gaussian Naive Bayes: 0.6902029563846831\n"
     ]
    }
   ],
   "source": [
    "gnb_pred=gnb.predict(test_X)\n",
    "gnb_conf=confusion_matrix(test_y,gnb_pred)\n",
    "gnb_report=classification_report(test_y,gnb_pred)\n",
    "gnb_acc=round(accuracy_score(test_y,gnb_pred)*100,ndigits=3)\n",
    "gnb_rocauc=roc_auc_score(test_y, gnb_pred)\n",
    "print(f\"Confusion Matrix : \\n\\n{gnb_conf}\")\n",
    "print(f\"\\nClassification Report : \\n\\n{gnb_report}\")\n",
    "print(f\"\\nThe Accuracy of Gaussian is {gnb_acc} %\")\n",
    "print(f'ROC AUC Score with Gaussian Naive Bayes: {gnb_rocauc}',)"
   ]
  },
  {
   "attachments": {},
   "cell_type": "markdown",
   "metadata": {},
   "source": [
    "XGBoost Classifier"
   ]
  },
  {
   "cell_type": "code",
   "execution_count": 42,
   "metadata": {},
   "outputs": [
    {
     "name": "stdout",
     "output_type": "stream",
     "text": [
      "Cross-Validation Scores: [0.96592458 0.96547024 0.95797365 0.95501022 0.95660077]\n"
     ]
    }
   ],
   "source": [
    "xgboost= XGBClassifier()\n",
    "xgboost.fit(train_X,train_y)\n",
    "cv_scores = cross_val_score(xgboost, X_over, y_over, cv=5, scoring='accuracy')  # Using 5-fold cross-validation\n",
    "print(f'Cross-Validation Scores: {cv_scores}')"
   ]
  },
  {
   "cell_type": "code",
   "execution_count": 43,
   "metadata": {},
   "outputs": [
    {
     "name": "stdout",
     "output_type": "stream",
     "text": [
      "Confusion Matrix : \n",
      "\n",
      "[[2788  148]\n",
      " [   8 1458]]\n",
      "\n",
      "Classification Report : \n",
      "\n",
      "              precision    recall  f1-score   support\n",
      "\n",
      "           0       1.00      0.95      0.97      2936\n",
      "           1       0.91      0.99      0.95      1466\n",
      "\n",
      "    accuracy                           0.96      4402\n",
      "   macro avg       0.95      0.97      0.96      4402\n",
      "weighted avg       0.97      0.96      0.96      4402\n",
      "\n",
      "\n",
      "The Accuracy of XGB is 96.456 %\n",
      "ROC AUC Score with XGBOOST: 0.9720671273665388\n"
     ]
    }
   ],
   "source": [
    "xgboost_pred = xgboost.predict(test_X) # Predictions on the test set\n",
    "\n",
    "xgboost_conf = confusion_matrix(test_y, xgboost_pred) # Confusion Matrix\n",
    "xgboost_report = classification_report(test_y, xgboost_pred) # Classification Report\n",
    "xgboost_acc = round(accuracy_score(test_y, xgboost_pred) * 100, ndigits=3) # Accuracy Score\n",
    "xgboost_rocauc = roc_auc_score(test_y, xgboost_pred) # ROC AUC Score\n",
    "\n",
    "# Print Results\n",
    "print(f\"Confusion Matrix : \\n\\n{xgboost_conf}\")\n",
    "print(f\"\\nClassification Report : \\n\\n{xgboost_report}\")\n",
    "print(f\"\\nThe Accuracy of XGB is {xgboost_acc} %\")\n",
    "print(f'ROC AUC Score with XGBOOST: {xgboost_rocauc}')\n"
   ]
  },
  {
   "cell_type": "code",
   "execution_count": 44,
   "metadata": {},
   "outputs": [
    {
     "data": {
      "text/html": [
       "<style type=\"text/css\">\n",
       "#T_e802f_row0_col1, #T_e802f_row0_col2 {\n",
       "  background-color: #800026;\n",
       "  color: #f1f1f1;\n",
       "}\n",
       "#T_e802f_row1_col1 {\n",
       "  background-color: #970026;\n",
       "  color: #f1f1f1;\n",
       "}\n",
       "#T_e802f_row1_col2 {\n",
       "  background-color: #8b0026;\n",
       "  color: #f1f1f1;\n",
       "}\n",
       "#T_e802f_row2_col1 {\n",
       "  background-color: #b40026;\n",
       "  color: #f1f1f1;\n",
       "}\n",
       "#T_e802f_row2_col2 {\n",
       "  background-color: #9f0026;\n",
       "  color: #f1f1f1;\n",
       "}\n",
       "#T_e802f_row3_col1 {\n",
       "  background-color: #feb651;\n",
       "  color: #000000;\n",
       "}\n",
       "#T_e802f_row3_col2 {\n",
       "  background-color: #fd9f44;\n",
       "  color: #000000;\n",
       "}\n",
       "#T_e802f_row4_col1 {\n",
       "  background-color: #fed977;\n",
       "  color: #000000;\n",
       "}\n",
       "#T_e802f_row4_col2 {\n",
       "  background-color: #fec15d;\n",
       "  color: #000000;\n",
       "}\n",
       "#T_e802f_row5_col1, #T_e802f_row5_col2 {\n",
       "  background-color: #ffffcc;\n",
       "  color: #000000;\n",
       "}\n",
       "</style>\n",
       "<table id=\"T_e802f\">\n",
       "  <thead>\n",
       "    <tr>\n",
       "      <th class=\"blank level0\" >&nbsp;</th>\n",
       "      <th id=\"T_e802f_level0_col0\" class=\"col_heading level0 col0\" >Models</th>\n",
       "      <th id=\"T_e802f_level0_col1\" class=\"col_heading level0 col1\" >Testing Accuracy Score</th>\n",
       "      <th id=\"T_e802f_level0_col2\" class=\"col_heading level0 col2\" >ROC AUC Score</th>\n",
       "    </tr>\n",
       "  </thead>\n",
       "  <tbody>\n",
       "    <tr>\n",
       "      <th id=\"T_e802f_level0_row0\" class=\"row_heading level0 row0\" >4</th>\n",
       "      <td id=\"T_e802f_row0_col0\" class=\"data row0 col0\" >Random Forest Classifier</td>\n",
       "      <td id=\"T_e802f_row0_col1\" class=\"data row0 col1\" >98.840000</td>\n",
       "      <td id=\"T_e802f_row0_col2\" class=\"data row0 col2\" >0.991315</td>\n",
       "    </tr>\n",
       "    <tr>\n",
       "      <th id=\"T_e802f_level0_row1\" class=\"row_heading level0 row1\" >1</th>\n",
       "      <td id=\"T_e802f_row1_col0\" class=\"data row1 col0\" >Decision Tree Classifier</td>\n",
       "      <td id=\"T_e802f_row1_col1\" class=\"data row1 col1\" >97.751000</td>\n",
       "      <td id=\"T_e802f_row1_col2\" class=\"data row1 col2\" >0.983140</td>\n",
       "    </tr>\n",
       "    <tr>\n",
       "      <th id=\"T_e802f_level0_row2\" class=\"row_heading level0 row2\" >0</th>\n",
       "      <td id=\"T_e802f_row2_col0\" class=\"data row2 col0\" >XGBoost Classifier</td>\n",
       "      <td id=\"T_e802f_row2_col1\" class=\"data row2 col1\" >96.456000</td>\n",
       "      <td id=\"T_e802f_row2_col2\" class=\"data row2 col2\" >0.972067</td>\n",
       "    </tr>\n",
       "    <tr>\n",
       "      <th id=\"T_e802f_level0_row3\" class=\"row_heading level0 row3\" >3</th>\n",
       "      <td id=\"T_e802f_row3_col0\" class=\"data row3 col0\" >Gradien Boost Classifier</td>\n",
       "      <td id=\"T_e802f_row3_col1\" class=\"data row3 col1\" >84.530000</td>\n",
       "      <td id=\"T_e802f_row3_col2\" class=\"data row3 col2\" >0.822380</td>\n",
       "    </tr>\n",
       "    <tr>\n",
       "      <th id=\"T_e802f_level0_row4\" class=\"row_heading level0 row4\" >5</th>\n",
       "      <td id=\"T_e802f_row4_col0\" class=\"data row4 col0\" >Logistic Regression</td>\n",
       "      <td id=\"T_e802f_row4_col1\" class=\"data row4 col1\" >82.030000</td>\n",
       "      <td id=\"T_e802f_row4_col2\" class=\"data row4 col2\" >0.788620</td>\n",
       "    </tr>\n",
       "    <tr>\n",
       "      <th id=\"T_e802f_level0_row5\" class=\"row_heading level0 row5\" >2</th>\n",
       "      <td id=\"T_e802f_row5_col0\" class=\"data row5 col0\" >Gaussian naive bayes classifier</td>\n",
       "      <td id=\"T_e802f_row5_col1\" class=\"data row5 col1\" >76.443000</td>\n",
       "      <td id=\"T_e802f_row5_col2\" class=\"data row5 col2\" >0.690203</td>\n",
       "    </tr>\n",
       "  </tbody>\n",
       "</table>\n"
      ],
      "text/plain": [
       "<pandas.io.formats.style.Styler at 0x29c78434910>"
      ]
     },
     "execution_count": 44,
     "metadata": {},
     "output_type": "execute_result"
    }
   ],
   "source": [
    "results = pd.DataFrame([[\"XGBoost Classifier\", xgboost_acc, xgboost_rocauc],\n",
    "                        [\"Decision Tree Classifier\", dtr_acc, dtr_rocauc], \n",
    "                        [\"Gaussian naive bayes classifier\", gnb_acc, gnb_rocauc],\n",
    "                        [\"Gradien Boost Classifier\", gradien_acc, gradien_rocauc],\n",
    "                        [\"Random Forest Classifier\", rfc_acc, rfc_rocauc],\n",
    "                        [\"Logistic Regression\",lr_acc,lr_rocauc]],\n",
    "                        columns = [\"Models\", \"Testing Accuracy Score\", \"ROC AUC Score\"])\n",
    "\n",
    "results.sort_values(by=['ROC AUC Score'], ascending=False).style.background_gradient(cmap='YlOrRd')"
   ]
  },
  {
   "attachments": {},
   "cell_type": "markdown",
   "metadata": {},
   "source": [
    "# Submission"
   ]
  },
  {
   "cell_type": "code",
   "execution_count": 45,
   "metadata": {},
   "outputs": [],
   "source": [
    "X_test=test.drop(['id','smoking_status','Residence_type'],1)"
   ]
  },
  {
   "cell_type": "code",
   "execution_count": 46,
   "metadata": {},
   "outputs": [
    {
     "data": {
      "text/plain": [
       "{'gender': {'Female': 0, 'Male': 1, 'Other': 2},\n",
       " 'ever_married': {'No': 0, 'Yes': 1},\n",
       " 'work_type': {'Govt_job': 0,\n",
       "  'Never_worked': 1,\n",
       "  'Private': 2,\n",
       "  'Self-employed': 3,\n",
       "  'children': 4}}"
      ]
     },
     "execution_count": 46,
     "metadata": {},
     "output_type": "execute_result"
    }
   ],
   "source": [
    "catcol=[col for col in X_test.columns if X_test[col].dtype == 'object']\n",
    "label_mapping = {}\n",
    "for col in catcol:\n",
    "    X_test[col]=le.fit_transform(X_test[col])\n",
    "    label_mapping[col] = dict(zip(le.classes_,le.transform(le.classes_)))\n",
    "    \n",
    "label_mapping"
   ]
  },
  {
   "cell_type": "code",
   "execution_count": 47,
   "metadata": {},
   "outputs": [
    {
     "data": {
      "text/plain": [
       "((4402, 8), (10204, 8))"
      ]
     },
     "execution_count": 47,
     "metadata": {},
     "output_type": "execute_result"
    }
   ],
   "source": [
    "test_X.shape, X_test.shape"
   ]
  },
  {
   "cell_type": "code",
   "execution_count": 48,
   "metadata": {},
   "outputs": [],
   "source": [
    "test_pred=rfc.predict(X_test)"
   ]
  },
  {
   "cell_type": "code",
   "execution_count": 49,
   "metadata": {},
   "outputs": [
    {
     "data": {
      "text/html": [
       "<div>\n",
       "<style scoped>\n",
       "    .dataframe tbody tr th:only-of-type {\n",
       "        vertical-align: middle;\n",
       "    }\n",
       "\n",
       "    .dataframe tbody tr th {\n",
       "        vertical-align: top;\n",
       "    }\n",
       "\n",
       "    .dataframe thead th {\n",
       "        text-align: right;\n",
       "    }\n",
       "</style>\n",
       "<table border=\"1\" class=\"dataframe\">\n",
       "  <thead>\n",
       "    <tr style=\"text-align: right;\">\n",
       "      <th></th>\n",
       "      <th>id</th>\n",
       "      <th>stroke</th>\n",
       "    </tr>\n",
       "  </thead>\n",
       "  <tbody>\n",
       "    <tr>\n",
       "      <th>0</th>\n",
       "      <td>15304</td>\n",
       "      <td>0</td>\n",
       "    </tr>\n",
       "    <tr>\n",
       "      <th>1</th>\n",
       "      <td>15305</td>\n",
       "      <td>0</td>\n",
       "    </tr>\n",
       "    <tr>\n",
       "      <th>2</th>\n",
       "      <td>15306</td>\n",
       "      <td>0</td>\n",
       "    </tr>\n",
       "    <tr>\n",
       "      <th>3</th>\n",
       "      <td>15307</td>\n",
       "      <td>0</td>\n",
       "    </tr>\n",
       "    <tr>\n",
       "      <th>4</th>\n",
       "      <td>15308</td>\n",
       "      <td>0</td>\n",
       "    </tr>\n",
       "    <tr>\n",
       "      <th>...</th>\n",
       "      <td>...</td>\n",
       "      <td>...</td>\n",
       "    </tr>\n",
       "    <tr>\n",
       "      <th>10199</th>\n",
       "      <td>25503</td>\n",
       "      <td>0</td>\n",
       "    </tr>\n",
       "    <tr>\n",
       "      <th>10200</th>\n",
       "      <td>25504</td>\n",
       "      <td>0</td>\n",
       "    </tr>\n",
       "    <tr>\n",
       "      <th>10201</th>\n",
       "      <td>25505</td>\n",
       "      <td>0</td>\n",
       "    </tr>\n",
       "    <tr>\n",
       "      <th>10202</th>\n",
       "      <td>25506</td>\n",
       "      <td>0</td>\n",
       "    </tr>\n",
       "    <tr>\n",
       "      <th>10203</th>\n",
       "      <td>25507</td>\n",
       "      <td>0</td>\n",
       "    </tr>\n",
       "  </tbody>\n",
       "</table>\n",
       "<p>10204 rows × 2 columns</p>\n",
       "</div>"
      ],
      "text/plain": [
       "          id  stroke\n",
       "0      15304       0\n",
       "1      15305       0\n",
       "2      15306       0\n",
       "3      15307       0\n",
       "4      15308       0\n",
       "...      ...     ...\n",
       "10199  25503       0\n",
       "10200  25504       0\n",
       "10201  25505       0\n",
       "10202  25506       0\n",
       "10203  25507       0\n",
       "\n",
       "[10204 rows x 2 columns]"
      ]
     },
     "execution_count": 49,
     "metadata": {},
     "output_type": "execute_result"
    }
   ],
   "source": [
    "submission['stroke'] = test_pred\n",
    "\n",
    "submission"
   ]
  },
  {
   "cell_type": "code",
   "execution_count": 50,
   "metadata": {},
   "outputs": [],
   "source": [
    "submission.to_csv('submission.csv',index = False)"
   ]
  }
 ],
 "metadata": {
  "kernelspec": {
   "display_name": "Python 3.9.12 ('base')",
   "language": "python",
   "name": "python3"
  },
  "language_info": {
   "codemirror_mode": {
    "name": "ipython",
    "version": 3
   },
   "file_extension": ".py",
   "mimetype": "text/x-python",
   "name": "python",
   "nbconvert_exporter": "python",
   "pygments_lexer": "ipython3",
   "version": "3.9.12"
  },
  "orig_nbformat": 4,
  "vscode": {
   "interpreter": {
    "hash": "ad2bdc8ecc057115af97d19610ffacc2b4e99fae6737bb82f5d7fb13d2f2c186"
   }
  }
 },
 "nbformat": 4,
 "nbformat_minor": 2
}
